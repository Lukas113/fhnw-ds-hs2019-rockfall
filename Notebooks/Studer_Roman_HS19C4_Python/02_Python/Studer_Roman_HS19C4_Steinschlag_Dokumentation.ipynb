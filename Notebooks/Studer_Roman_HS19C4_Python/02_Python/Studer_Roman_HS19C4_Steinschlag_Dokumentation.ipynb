{
 "cells": [
  {
   "cell_type": "markdown",
   "metadata": {},
   "source": [
    "Autor: Roman Janic Studer"
   ]
  },
  {
   "cell_type": "markdown",
   "metadata": {},
   "source": [
    "# Aufgabenstellung \n",
    "\n",
    "**Aufgabenstellung:**\n",
    "Die Kantonsstrasse unterhalb Schiers (GR) ist von Steinschlag betroffen. Steine lösen sich von zwei unterschiedlichen Stellen an der Felswand ab (Ablösungszone 1 und Ablösungszone 2). Der betroffene Strassenabschnitt ist mit Steinfangnetzen gesichert, die jedoch in die Jahre gekommen sind und die angestrebte Sicherheit nicht mehr gewährleisten können. Die Planung für Ersatznetze hat bereits begonnen, kann aber frühstens in einem Jahr umgesetzt werden.\n",
    "\n",
    "In den letzten Monaten haben sich mehrere Steinschlagereignisse ereignet. Kommt es im Lauf des nächsten Jahres zu weiteren vergleichbaren Ereignissen, könnten die alten Sicherheitsnetze versagen und die Verkehrsteilnehmer einem grossen Sicherheitsrisiko ausgesetzt sein. Die Bevölkerung ist verunsichert und der Kantonsingenieur muss schnell entscheiden, ob das Risiko für die Verkehrsteilnehmer zu gross ist und die Kantonsstrasse vorübergehend gesperrt werden muss. Sie unterstützen den Kantonsingenieur in der Entscheidungsfindung und in der Kommunikation der Resultate an die Bevölkerung.\n",
    "\n",
    "Damit die Strasse offen bleiben kann, muss gezeigt werden, dass die jährliche Wahrscheinlichkeit von Todesfällen infolge Steinschlags kleiner als 0.0001 ist. Für die Berechnungen soll ein Code in Python oder R entwickelt werden. Es soll so strukturiert und dokumentiert werden, dass er in Zukunft ohne grosse Anpassungen für ähnliche Problemstellungen angewendet werden kann.\n",
    "\n",
    "Neben den Berechnungen werden Sie für den Kanton die Kommunikation an die lokale Bevölkerung gestalten. Diese ist heikel, weil man es der Bevölkerung nicht recht machen kann: bleibt die Strasse offen, ist die Bevölkerung weiterhin verunsichert; schliesst man die Strasse, ist die Bevölkerung verärgert wegen der eingeschränkten Mobilität. So oder so: Sie müssen die Resultate umfangreich und klar kommunizieren und kontextualisieren, um die Bevölkerung für die Entscheidung des Kantonsingenieurs zu gewinnen. Die Form der Kommunikation ist Ihnen überlassen. Falls Sie sich für eine Homepage entscheiden, müssen Sie das Webhosting selbst organisieren, denn der Kanton war kürzlich von Hackerangriffen betroffen und hat keinen verfügbaren Server.\n",
    "\n",
    "# Einführung\n",
    "\n",
    "**Die folgende Liste gibt an in welchen Kapiteln die verschiedenen Kompetenzen angewandt wurden:**\n",
    "\n",
    "(Gewisse Kompetenzen wurden auch in anderen Dokumenten als dieses Python-Notebook verwendet. Bitte betrachten Sie auch die anderen Dokumente in der Abgabe)\n",
    "\n",
    "| Kapitel | wer | git | pgr | gdv | iko | ako | dko |\n",
    "| --- | --- | --- | --- | --- | --- | --- | --- |\n",
    "| 3 |  |  | x |  |  |  |  |\n",
    "| 4 |  |  | x |  |  |  |  |\n",
    "| 5 |  |  | x | x |  |  |  |\n",
    "| 6 | x |  | x |  |  |  |  |\n",
    "| 7 | x |  | x | x |  |  |  |\n",
    "| 8 |  | x | x |  | x | x | x |\n",
    "| 9 |  |  | x |  |  |  |  |\n",
    "\n",
    "**Einführung:**\n",
    "In diesem Notebook werde ich die Daten der \"Steinschlag-Challeng, HS19C4\" untersuchen. Die Aufgabe dieses Projektes ist die Wahrscheinlichkeit eines Todes durch einen Steinschlag an einem Hang über einer Straße in Graubünden (Schweiz) zu berechnen. Die Challenge selbst finden Sie unter dem folgenden Link: [Steinschlag Challenge](https://ds-spaces.technik.fhnw.ch/steinschlag/)\n",
    "\n",
    "Dieses Notebook wird verwendet, um die Daten in zahlreichen Plots zu visualisieren. Die Berechnung der Wahrscheinlichkeit erfolgt unter anderem in diesem Python-Notebook und in einem R Notebook. Die endgültigen Ergebnisse dieser Erkundung werden später auf einer Website veröffentlicht."
   ]
  },
  {
   "cell_type": "markdown",
   "metadata": {},
   "source": [
    "# Imports and Datasets\n",
    "Es werden insgesamt fünf Datasets importiert.\n",
    "Darunter die zwei Datasets mit Informationen zu den beiden Absturzstellen. Sie enthalten Masse, Geschwindigkeit und Energie von 100 Ereignissen über einen Zeitraum von drei Monaten."
   ]
  },
  {
   "cell_type": "code",
   "execution_count": 1,
   "metadata": {},
   "outputs": [],
   "source": [
    "from csv import reader\n",
    "import pandas as pd\n",
    "import numpy as np\n",
    "import matplotlib.pyplot as plt\n",
    "import matplotlib.mlab as mlab\n",
    "import seaborn as sns; sns.set()\n",
    "import scipy.stats as stats\n",
    "from scipy.stats import expon, gamma, lognorm, dweibull\n",
    "import pylab \n",
    "from rpy2.robjects import r\n",
    "from rpy2.robjects.packages import importr\n",
    "import random\n",
    "import math\n",
    "\n",
    "#open dataset 1,2 and traffic\n",
    "out_1 = pd.read_csv(\"../data/out_1.csv\", sep=';')\n",
    "out_2 = pd.read_csv(\"../data/out_2.csv\", sep=';')\n",
    "traffic = pd.read_csv(\"../data/trafficdensity_per_hour.csv\", sep=';')\n",
    "pro_counter = pd.read_csv('../data/pro_counter.csv', sep=',')\n",
    "sim_result = pd.read_csv('../data/monte_carlo_rockfall_100_simulations_1e+05_years.csv', sep=',');"
   ]
  },
  {
   "cell_type": "markdown",
   "metadata": {},
   "source": [
    "# Daten bereinigen\n",
    "#### 4.1 Dataset out_1\n",
    "Das Dataset `out_1` enthält fünf Zeilen mit insgesamt 68 Einträgen. Jeder Eintrag beschreibt wann ein Ereigniss stattfand (Datum und Uhrzeit), sowie die Masse [kg], Geschwindigkeit [m/s] und kinetische Energie [kJ] des Ereignisses. "
   ]
  },
  {
   "cell_type": "code",
   "execution_count": 2,
   "metadata": {
    "scrolled": true
   },
   "outputs": [
    {
     "data": {
      "text/html": [
       "<div>\n",
       "<style scoped>\n",
       "    .dataframe tbody tr th:only-of-type {\n",
       "        vertical-align: middle;\n",
       "    }\n",
       "\n",
       "    .dataframe tbody tr th {\n",
       "        vertical-align: top;\n",
       "    }\n",
       "\n",
       "    .dataframe thead th {\n",
       "        text-align: right;\n",
       "    }\n",
       "</style>\n",
       "<table border=\"1\" class=\"dataframe\">\n",
       "  <thead>\n",
       "    <tr style=\"text-align: right;\">\n",
       "      <th></th>\n",
       "      <th>Datum</th>\n",
       "      <th>Uhrzeit</th>\n",
       "      <th>Masse [kg]</th>\n",
       "      <th>Geschwindigkeit [m/s]</th>\n",
       "      <th>Kin_Energy [kJ]</th>\n",
       "    </tr>\n",
       "  </thead>\n",
       "  <tbody>\n",
       "    <tr>\n",
       "      <th>0</th>\n",
       "      <td>01.01.2019</td>\n",
       "      <td>09:00:00</td>\n",
       "      <td>194</td>\n",
       "      <td>8.4</td>\n",
       "      <td>6.84432</td>\n",
       "    </tr>\n",
       "    <tr>\n",
       "      <th>1</th>\n",
       "      <td>01.01.2019</td>\n",
       "      <td>21:00:00</td>\n",
       "      <td>224</td>\n",
       "      <td>8.8</td>\n",
       "      <td>8.67328</td>\n",
       "    </tr>\n",
       "    <tr>\n",
       "      <th>2</th>\n",
       "      <td>02.01.2019</td>\n",
       "      <td>14:00:00</td>\n",
       "      <td>3104</td>\n",
       "      <td>9.2</td>\n",
       "      <td>131.36128</td>\n",
       "    </tr>\n",
       "    <tr>\n",
       "      <th>3</th>\n",
       "      <td>04.01.2019</td>\n",
       "      <td>15:00:00</td>\n",
       "      <td>228</td>\n",
       "      <td>8.0</td>\n",
       "      <td>7.29600</td>\n",
       "    </tr>\n",
       "    <tr>\n",
       "      <th>4</th>\n",
       "      <td>05.01.2019</td>\n",
       "      <td>23:00:00</td>\n",
       "      <td>755</td>\n",
       "      <td>7.0</td>\n",
       "      <td>18.49750</td>\n",
       "    </tr>\n",
       "  </tbody>\n",
       "</table>\n",
       "</div>"
      ],
      "text/plain": [
       "        Datum   Uhrzeit  Masse [kg]  Geschwindigkeit [m/s]  Kin_Energy [kJ]\n",
       "0  01.01.2019  09:00:00         194                    8.4          6.84432\n",
       "1  01.01.2019  21:00:00         224                    8.8          8.67328\n",
       "2  02.01.2019  14:00:00        3104                    9.2        131.36128\n",
       "3  04.01.2019  15:00:00         228                    8.0          7.29600\n",
       "4  05.01.2019  23:00:00         755                    7.0         18.49750"
      ]
     },
     "execution_count": 2,
     "metadata": {},
     "output_type": "execute_result"
    }
   ],
   "source": [
    "out_1.head()"
   ]
  },
  {
   "cell_type": "code",
   "execution_count": 3,
   "metadata": {},
   "outputs": [
    {
     "name": "stdout",
     "output_type": "stream",
     "text": [
      "<class 'pandas.core.frame.DataFrame'>\n",
      "RangeIndex: 68 entries, 0 to 67\n",
      "Data columns (total 5 columns):\n",
      "Datum                    68 non-null object\n",
      "Uhrzeit                  68 non-null object\n",
      "Masse [kg]               68 non-null int64\n",
      "Geschwindigkeit [m/s]    68 non-null float64\n",
      "Kin_Energy [kJ]          68 non-null float64\n",
      "dtypes: float64(2), int64(1), object(2)\n",
      "memory usage: 2.7+ KB\n"
     ]
    }
   ],
   "source": [
    "out_1.info()"
   ]
  },
  {
   "cell_type": "code",
   "execution_count": 4,
   "metadata": {},
   "outputs": [
    {
     "data": {
      "text/plain": [
       "Datum                    0\n",
       "Uhrzeit                  0\n",
       "Masse [kg]               0\n",
       "Geschwindigkeit [m/s]    0\n",
       "Kin_Energy [kJ]          0\n",
       "dtype: int64"
      ]
     },
     "execution_count": 4,
     "metadata": {},
     "output_type": "execute_result"
    }
   ],
   "source": [
    "#Zeilen und Spalten löschen die NA Daten haben:\n",
    "out_1_clean = out_1.dropna(how='any')\n",
    "out_1_clean = out_1_clean.dropna(axis = 'columns')\n",
    "out_1_clean.isna().sum()"
   ]
  },
  {
   "cell_type": "markdown",
   "metadata": {},
   "source": [
    "Das Datasets out_1 enthält einen Wert mit der Masse null. Entweder ist hier ein Rundungsfehler oder Messfehler entstanden. Da wir die Ursache für den Fehler nicht kennen und es sich nur um einen Wert handelt, haben wir uns dazu entschieden diese Zeile zu entfernen."
   ]
  },
  {
   "cell_type": "code",
   "execution_count": 5,
   "metadata": {},
   "outputs": [],
   "source": [
    "#Zeile mit Masse 0 löschen\n",
    "out_1_clean = out_1_clean[out_1_clean['Masse [kg]'] != 0]"
   ]
  },
  {
   "cell_type": "code",
   "execution_count": 6,
   "metadata": {},
   "outputs": [],
   "source": [
    "#Spalten umbenennen:\n",
    "out_1_clean = out_1_clean.rename(columns= {'Datum':'Date',\n",
    "                                             'Uhrzeit': 'Time',\n",
    "                                             'Masse [kg]' : 'Mass in kg' ,\n",
    "                                             'Geschwindigkeit [m/s]' : 'Speed in m/s',\n",
    "                                             'Kin_Energy [kJ]' : 'Energy in kJ'\n",
    "                                            })"
   ]
  },
  {
   "cell_type": "markdown",
   "metadata": {},
   "source": [
    "#### 4.2 Dataset out_2\n",
    "Das Dataset `out_2` enthält fünf Zeilen mit insgesamt 32 Einträgen. Jeder Eintrag beschreibt wann ein Ereigniss stattfand (Datum und Uhrzeit), sowie die Masse [kg], Geschwindigkeit [m/s] und kinetische Energie [kJ] des Ereignisses. "
   ]
  },
  {
   "cell_type": "code",
   "execution_count": 7,
   "metadata": {},
   "outputs": [
    {
     "data": {
      "text/html": [
       "<div>\n",
       "<style scoped>\n",
       "    .dataframe tbody tr th:only-of-type {\n",
       "        vertical-align: middle;\n",
       "    }\n",
       "\n",
       "    .dataframe tbody tr th {\n",
       "        vertical-align: top;\n",
       "    }\n",
       "\n",
       "    .dataframe thead th {\n",
       "        text-align: right;\n",
       "    }\n",
       "</style>\n",
       "<table border=\"1\" class=\"dataframe\">\n",
       "  <thead>\n",
       "    <tr style=\"text-align: right;\">\n",
       "      <th></th>\n",
       "      <th>Datum</th>\n",
       "      <th>Uhrzeit</th>\n",
       "      <th>Masse [kg]</th>\n",
       "      <th>Geschwindigkeit [m/s]</th>\n",
       "      <th>Kin_Energy [kJ]</th>\n",
       "    </tr>\n",
       "  </thead>\n",
       "  <tbody>\n",
       "    <tr>\n",
       "      <th>0</th>\n",
       "      <td>01.01.2019</td>\n",
       "      <td>09:00:00</td>\n",
       "      <td>38</td>\n",
       "      <td>45.4</td>\n",
       "      <td>39.16204</td>\n",
       "    </tr>\n",
       "    <tr>\n",
       "      <th>1</th>\n",
       "      <td>03.01.2019</td>\n",
       "      <td>06:00:00</td>\n",
       "      <td>187</td>\n",
       "      <td>41.6</td>\n",
       "      <td>161.80736</td>\n",
       "    </tr>\n",
       "    <tr>\n",
       "      <th>2</th>\n",
       "      <td>04.01.2019</td>\n",
       "      <td>10:00:00</td>\n",
       "      <td>36</td>\n",
       "      <td>44.6</td>\n",
       "      <td>35.80488</td>\n",
       "    </tr>\n",
       "    <tr>\n",
       "      <th>3</th>\n",
       "      <td>07.01.2019</td>\n",
       "      <td>14:00:00</td>\n",
       "      <td>6</td>\n",
       "      <td>41.2</td>\n",
       "      <td>5.09232</td>\n",
       "    </tr>\n",
       "    <tr>\n",
       "      <th>4</th>\n",
       "      <td>11.01.2019</td>\n",
       "      <td>06:00:00</td>\n",
       "      <td>65</td>\n",
       "      <td>39.6</td>\n",
       "      <td>50.96520</td>\n",
       "    </tr>\n",
       "  </tbody>\n",
       "</table>\n",
       "</div>"
      ],
      "text/plain": [
       "        Datum   Uhrzeit  Masse [kg]  Geschwindigkeit [m/s]  Kin_Energy [kJ]\n",
       "0  01.01.2019  09:00:00          38                   45.4         39.16204\n",
       "1  03.01.2019  06:00:00         187                   41.6        161.80736\n",
       "2  04.01.2019  10:00:00          36                   44.6         35.80488\n",
       "3  07.01.2019  14:00:00           6                   41.2          5.09232\n",
       "4  11.01.2019  06:00:00          65                   39.6         50.96520"
      ]
     },
     "execution_count": 7,
     "metadata": {},
     "output_type": "execute_result"
    }
   ],
   "source": [
    "out_2.head()"
   ]
  },
  {
   "cell_type": "code",
   "execution_count": 8,
   "metadata": {},
   "outputs": [
    {
     "name": "stdout",
     "output_type": "stream",
     "text": [
      "<class 'pandas.core.frame.DataFrame'>\n",
      "RangeIndex: 32 entries, 0 to 31\n",
      "Data columns (total 5 columns):\n",
      "Datum                    32 non-null object\n",
      "Uhrzeit                  32 non-null object\n",
      "Masse [kg]               32 non-null int64\n",
      "Geschwindigkeit [m/s]    32 non-null float64\n",
      "Kin_Energy [kJ]          32 non-null float64\n",
      "dtypes: float64(2), int64(1), object(2)\n",
      "memory usage: 1.3+ KB\n"
     ]
    }
   ],
   "source": [
    "out_2.info()"
   ]
  },
  {
   "cell_type": "code",
   "execution_count": 9,
   "metadata": {},
   "outputs": [
    {
     "data": {
      "text/plain": [
       "Datum                    0\n",
       "Uhrzeit                  0\n",
       "Masse [kg]               0\n",
       "Geschwindigkeit [m/s]    0\n",
       "Kin_Energy [kJ]          0\n",
       "dtype: int64"
      ]
     },
     "execution_count": 9,
     "metadata": {},
     "output_type": "execute_result"
    }
   ],
   "source": [
    "#Zeilen und Spalten löschen die NA Daten haben:\n",
    "out_2_clean = out_2.dropna(how='any')\n",
    "out_2_clean = out_2_clean.dropna(axis = 'columns')\n",
    "out_2_clean.isna().sum()"
   ]
  },
  {
   "cell_type": "code",
   "execution_count": 10,
   "metadata": {},
   "outputs": [],
   "source": [
    "#Zeile mit Masse 0 löschen\n",
    "out_2_clean = out_2_clean[out_2_clean['Masse [kg]'] != 0]"
   ]
  },
  {
   "cell_type": "code",
   "execution_count": 11,
   "metadata": {},
   "outputs": [],
   "source": [
    "#Spalten umbenennen:\n",
    "out_2_clean = out_2_clean.rename(columns= {'Datum':'Date',\n",
    "                                             'Uhrzeit': 'Time',\n",
    "                                             'Masse [kg]' : 'Mass in kg' ,\n",
    "                                             'Geschwindigkeit [m/s]' : 'Speed in m/s',\n",
    "                                             'Kin_Energy [kJ]' : 'Energy in kJ'\n",
    "                                            })"
   ]
  },
  {
   "cell_type": "markdown",
   "metadata": {},
   "source": [
    "#### 4.3 Dataset traffic\n",
    "Das Dataset `traffic`ist vom Bundesamt für Statistik. Das Dataset hat 24 einträge für alle 24 Stunden im Tag und gibt die Verkehrsdichte in Prozent an."
   ]
  },
  {
   "cell_type": "code",
   "execution_count": 12,
   "metadata": {},
   "outputs": [
    {
     "data": {
      "text/html": [
       "<div>\n",
       "<style scoped>\n",
       "    .dataframe tbody tr th:only-of-type {\n",
       "        vertical-align: middle;\n",
       "    }\n",
       "\n",
       "    .dataframe tbody tr th {\n",
       "        vertical-align: top;\n",
       "    }\n",
       "\n",
       "    .dataframe thead th {\n",
       "        text-align: right;\n",
       "    }\n",
       "</style>\n",
       "<table border=\"1\" class=\"dataframe\">\n",
       "  <thead>\n",
       "    <tr style=\"text-align: right;\">\n",
       "      <th></th>\n",
       "      <th>hour</th>\n",
       "      <th>percentile</th>\n",
       "    </tr>\n",
       "  </thead>\n",
       "  <tbody>\n",
       "    <tr>\n",
       "      <th>0</th>\n",
       "      <td>0</td>\n",
       "      <td>1.507968</td>\n",
       "    </tr>\n",
       "    <tr>\n",
       "      <th>1</th>\n",
       "      <td>1</td>\n",
       "      <td>0.712208</td>\n",
       "    </tr>\n",
       "    <tr>\n",
       "      <th>2</th>\n",
       "      <td>2</td>\n",
       "      <td>0.456835</td>\n",
       "    </tr>\n",
       "    <tr>\n",
       "      <th>3</th>\n",
       "      <td>3</td>\n",
       "      <td>0.421837</td>\n",
       "    </tr>\n",
       "    <tr>\n",
       "      <th>4</th>\n",
       "      <td>4</td>\n",
       "      <td>0.980265</td>\n",
       "    </tr>\n",
       "  </tbody>\n",
       "</table>\n",
       "</div>"
      ],
      "text/plain": [
       "   hour  percentile\n",
       "0     0    1.507968\n",
       "1     1    0.712208\n",
       "2     2    0.456835\n",
       "3     3    0.421837\n",
       "4     4    0.980265"
      ]
     },
     "execution_count": 12,
     "metadata": {},
     "output_type": "execute_result"
    }
   ],
   "source": [
    "traffic.head()"
   ]
  },
  {
   "cell_type": "code",
   "execution_count": 13,
   "metadata": {},
   "outputs": [
    {
     "name": "stdout",
     "output_type": "stream",
     "text": [
      "217.0795344 %\n"
     ]
    }
   ],
   "source": [
    "#Summe der Spalte 'percentile' liegt bei 217 Prozent. Dies muss zuerst auf 100 Prozent skaliert werden.\n",
    "print(traffic['percentile'].sum(), '%')"
   ]
  },
  {
   "cell_type": "code",
   "execution_count": 14,
   "metadata": {},
   "outputs": [
    {
     "name": "stdout",
     "output_type": "stream",
     "text": [
      "100.0 %\n"
     ]
    }
   ],
   "source": [
    "traffic['percentile'] = traffic['percentile']/2.170795344\n",
    "print(traffic['percentile'].sum(), '%')"
   ]
  },
  {
   "cell_type": "code",
   "execution_count": 15,
   "metadata": {},
   "outputs": [
    {
     "name": "stdout",
     "output_type": "stream",
     "text": [
      "(99, 5)\n"
     ]
    },
    {
     "data": {
      "text/html": [
       "<div>\n",
       "<style scoped>\n",
       "    .dataframe tbody tr th:only-of-type {\n",
       "        vertical-align: middle;\n",
       "    }\n",
       "\n",
       "    .dataframe tbody tr th {\n",
       "        vertical-align: top;\n",
       "    }\n",
       "\n",
       "    .dataframe thead th {\n",
       "        text-align: right;\n",
       "    }\n",
       "</style>\n",
       "<table border=\"1\" class=\"dataframe\">\n",
       "  <thead>\n",
       "    <tr style=\"text-align: right;\">\n",
       "      <th></th>\n",
       "      <th>Date</th>\n",
       "      <th>Time</th>\n",
       "      <th>Mass in kg</th>\n",
       "      <th>Speed in m/s</th>\n",
       "      <th>Energy in kJ</th>\n",
       "    </tr>\n",
       "  </thead>\n",
       "  <tbody>\n",
       "    <tr>\n",
       "      <th>0</th>\n",
       "      <td>01.01.2019</td>\n",
       "      <td>09:00:00</td>\n",
       "      <td>194</td>\n",
       "      <td>8.4</td>\n",
       "      <td>6.84432</td>\n",
       "    </tr>\n",
       "    <tr>\n",
       "      <th>1</th>\n",
       "      <td>01.01.2019</td>\n",
       "      <td>21:00:00</td>\n",
       "      <td>224</td>\n",
       "      <td>8.8</td>\n",
       "      <td>8.67328</td>\n",
       "    </tr>\n",
       "    <tr>\n",
       "      <th>2</th>\n",
       "      <td>02.01.2019</td>\n",
       "      <td>14:00:00</td>\n",
       "      <td>3104</td>\n",
       "      <td>9.2</td>\n",
       "      <td>131.36128</td>\n",
       "    </tr>\n",
       "    <tr>\n",
       "      <th>3</th>\n",
       "      <td>04.01.2019</td>\n",
       "      <td>15:00:00</td>\n",
       "      <td>228</td>\n",
       "      <td>8.0</td>\n",
       "      <td>7.29600</td>\n",
       "    </tr>\n",
       "    <tr>\n",
       "      <th>4</th>\n",
       "      <td>05.01.2019</td>\n",
       "      <td>23:00:00</td>\n",
       "      <td>755</td>\n",
       "      <td>7.0</td>\n",
       "      <td>18.49750</td>\n",
       "    </tr>\n",
       "  </tbody>\n",
       "</table>\n",
       "</div>"
      ],
      "text/plain": [
       "         Date      Time  Mass in kg  Speed in m/s  Energy in kJ\n",
       "0  01.01.2019  09:00:00         194           8.4       6.84432\n",
       "1  01.01.2019  21:00:00         224           8.8       8.67328\n",
       "2  02.01.2019  14:00:00        3104           9.2     131.36128\n",
       "3  04.01.2019  15:00:00         228           8.0       7.29600\n",
       "4  05.01.2019  23:00:00         755           7.0      18.49750"
      ]
     },
     "execution_count": 15,
     "metadata": {},
     "output_type": "execute_result"
    }
   ],
   "source": [
    "#zusammengeführtes dataset:\n",
    "comb = [out_1_clean, out_2_clean]\n",
    "rockfall = pd.concat(comb)\n",
    "\n",
    "#99 Reihen da ein Event mit der Masse 0 gedroppt wurde\n",
    "print(rockfall.shape)\n",
    "rockfall.head()\n"
   ]
  },
  {
   "cell_type": "code",
   "execution_count": 16,
   "metadata": {},
   "outputs": [],
   "source": [
    "#umformung der Zeit in datetime objekt\n",
    "out_1_clean ['Time'] = pd.to_datetime (out_1_clean['Time']).dt.hour\n",
    "out_2_clean ['Time'] = pd.to_datetime (out_2_clean['Time']).dt.hour\n",
    "rockfall['Time'] = pd.to_datetime (rockfall['Time']).dt.hour"
   ]
  },
  {
   "cell_type": "markdown",
   "metadata": {},
   "source": [
    "# Datenanalyse\n",
    "Nach dem Einlesen der Datensätze werde ich nun mithilfe von Histogrammen erste Vermutungen über die Daten anstellen."
   ]
  },
  {
   "cell_type": "code",
   "execution_count": 17,
   "metadata": {},
   "outputs": [
    {
     "name": "stdout",
     "output_type": "stream",
     "text": [
      "out_1_clean:\n",
      "count      68.000000\n",
      "mean      628.632353\n",
      "std       695.884703\n",
      "min        12.000000\n",
      "25%       214.750000\n",
      "50%       402.500000\n",
      "75%       773.000000\n",
      "max      3104.000000\n",
      "Name: Mass in kg, dtype: float64 \n",
      "\n",
      "out_2_clean:\n",
      "count     31.000000\n",
      "mean     102.451613\n",
      "std      104.178641\n",
      "min        3.000000\n",
      "25%       37.500000\n",
      "50%       58.000000\n",
      "75%      142.000000\n",
      "max      406.000000\n",
      "Name: Mass in kg, dtype: float64 \n",
      "\n",
      "rockfall:\n",
      "count      99.000000\n",
      "mean      463.868687\n",
      "std       628.133023\n",
      "min         3.000000\n",
      "25%        78.000000\n",
      "50%       236.000000\n",
      "75%       514.500000\n",
      "max      3104.000000\n",
      "Name: Mass in kg, dtype: float64\n"
     ]
    }
   ],
   "source": [
    "#statistische Daten über die Masse\n",
    "print('out_1_clean:')\n",
    "print(out_1_clean['Mass in kg'].describe(),'\\n')\n",
    "print('out_2_clean:')\n",
    "print(out_2_clean['Mass in kg'].describe(),'\\n')\n",
    "print('rockfall:')\n",
    "print(rockfall['Mass in kg'].describe())"
   ]
  },
  {
   "cell_type": "markdown",
   "metadata": {},
   "source": [
    "#### 5.1 Masse\n",
    "Der folgende Code stellt ein Histogramm der Spalte \"Masse\" in unserem Datensatz dar. Hier sehen wir, dass die meisten der Felsen eine Masse von unter 500 kg haben. Das ist relevant, denn wir bräuchten mehr als vier Steine dieser Größe, um das Sicherheitsnetz zu durchbrechen. Betrachten wir unsere Daten sehen wir dass es nur an zwei Tagen zu so vielen Ereignissen kommt. (Die folgenden Histogramme werden mit dem gleichen Code dargestellt, nur mit anderen Variablen)."
   ]
  },
  {
   "cell_type": "code",
   "execution_count": 18,
   "metadata": {},
   "outputs": [
    {
     "data": {
      "image/png": "[encoded data removed]",
      "text/plain": [
       "<Figure size 432x288 with 3 Axes>"
      ]
     },
     "metadata": {
      "needs_background": "light"
     },
     "output_type": "display_data"
    }
   ],
   "source": [
    "#1 Histogram out_1_clean, Mass\n",
    "plt.subplot(1,3,1)\n",
    "plt.hist(out_1_clean['Mass in kg'])\n",
    "plt.title('Distribution of Mass in Dataset out_1_clean')\n",
    "plt.xlabel('Mass in kg')\n",
    "plt.ylabel('count')\n",
    "\n",
    "#2 Histogram out_2_clean, Mass\n",
    "plt.subplot(1,3,2)\n",
    "plt.hist(out_2_clean['Mass in kg'], color = 'green')\n",
    "plt.title('Distribution of Mass in Dataset out_2_clean')\n",
    "plt.xlabel('Mass in kg')\n",
    "plt.ylabel('count')\n",
    "\n",
    "#3 Histogram rockfall, Mass\n",
    "plt.subplot(1,3,3)\n",
    "plt.hist(rockfall['Mass in kg'], color = 'orange')\n",
    "plt.title('Distribution of Mass in Dataset rockfall')\n",
    "plt.xlabel('Mass in kg')\n",
    "plt.ylabel('count')\n",
    "\n",
    "plt.subplots_adjust(right = 2)\n",
    "plt.show()"
   ]
  },
  {
   "cell_type": "markdown",
   "metadata": {},
   "source": [
    "#### 5.2 Geschwindigkeit\n",
    "Hier sehen wir, dass wir eine maximale Geschwindigkeit von etwa 46 Metern pro Sekunde haben. Die Geschwindigkeit ist ebenfalls in zwei Gruppen unterteilt, was uns zeigt, dass sich die beiden Stellen, an denen Steinschläge auftreten, auf einer unterschiedlichen Höhe befinden. Später in diesem Notizbuch werde ich das Verhältnis von Masse und Geschwindigkeit aufzeigen."
   ]
  },
  {
   "cell_type": "code",
   "execution_count": 19,
   "metadata": {},
   "outputs": [
    {
     "name": "stdout",
     "output_type": "stream",
     "text": [
      "out_1_clean:\n",
      "count    68.000000\n",
      "mean      8.788235\n",
      "std       1.989189\n",
      "min       3.600000\n",
      "25%       7.300000\n",
      "50%       8.800000\n",
      "75%      10.125000\n",
      "max      14.100000\n",
      "Name: Speed in m/s, dtype: float64 \n",
      "\n",
      "out_2_clean:\n",
      "count    31.000000\n",
      "mean     37.967742\n",
      "std       5.389582\n",
      "min      24.900000\n",
      "25%      33.400000\n",
      "50%      39.200000\n",
      "75%      41.850000\n",
      "max      46.500000\n",
      "Name: Speed in m/s, dtype: float64 \n",
      "\n",
      "rockfall:\n",
      "count    99.000000\n",
      "mean     17.925253\n",
      "std      14.021218\n",
      "min       3.600000\n",
      "25%       8.350000\n",
      "50%      10.000000\n",
      "75%      32.700000\n",
      "max      46.500000\n",
      "Name: Speed in m/s, dtype: float64\n"
     ]
    }
   ],
   "source": [
    "#statistische Daten über die Geschwindigkeit\n",
    "print('out_1_clean:')\n",
    "print(out_1_clean['Speed in m/s'].describe(),'\\n')\n",
    "print('out_2_clean:')\n",
    "print(out_2_clean['Speed in m/s'].describe(),'\\n')\n",
    "print('rockfall:')\n",
    "print(rockfall['Speed in m/s'].describe())"
   ]
  },
  {
   "cell_type": "code",
   "execution_count": 20,
   "metadata": {},
   "outputs": [
    {
     "data": {
      "image/png": "[encoded data removed]",
      "text/plain": [
       "<Figure size 432x288 with 3 Axes>"
      ]
     },
     "metadata": {
      "needs_background": "light"
     },
     "output_type": "display_data"
    }
   ],
   "source": [
    "#1 Histogram out_1_clean, Speed\n",
    "plt.subplot(1,3,1)\n",
    "plt.hist(out_1_clean['Speed in m/s'])\n",
    "plt.title('Distribution of Speed in Dataset out_1_clean')\n",
    "plt.xlabel('Speed in m/s')\n",
    "plt.ylabel('count')\n",
    "\n",
    "#2 Histogram out_2_clean, Speed\n",
    "plt.subplot(1,3,2)\n",
    "plt.hist(out_2_clean['Speed in m/s'], color = 'green')\n",
    "plt.title('Distribution of Speed in Dataset out_2_clean')\n",
    "plt.xlabel('Speed in m/s')\n",
    "plt.ylabel('')\n",
    "\n",
    "#3 Histogram rockfall, Speed\n",
    "plt.subplot(1,3,3)\n",
    "plt.hist(rockfall['Speed in m/s'], color = 'orange')\n",
    "plt.title('Distribution of Speed in Dataset rockfall')\n",
    "plt.xlabel('Speed in m/s')\n",
    "plt.ylabel('')\n",
    "\n",
    "plt.subplots_adjust(right = 2)\n",
    "plt.show()"
   ]
  },
  {
   "cell_type": "markdown",
   "metadata": {},
   "source": [
    "#### 5.3 Energie\n",
    "Wenn wir die Energie (in Kilojoule) grafisch darstellen, sehen wir , dass ein grosser Teil unserer Ereignisse eine sehr niedrige Energie besitzen und wir können sogar sehen, dass über 15 Steinschläge einen Wert von 0 auf der Grafik haben. Das liegt daran, dass wir mehrere Ereignisse haben, die eine Energie von >10kJ nicht erreichen."
   ]
  },
  {
   "cell_type": "code",
   "execution_count": 21,
   "metadata": {},
   "outputs": [
    {
     "name": "stdout",
     "output_type": "stream",
     "text": [
      "out_1_clean:\n",
      "count     68.000000\n",
      "mean      25.197761\n",
      "std       32.704933\n",
      "min        0.464640\n",
      "25%        8.214900\n",
      "50%       12.815132\n",
      "75%       23.135955\n",
      "max      164.403200\n",
      "Name: Energy in kJ, dtype: float64 \n",
      "\n",
      "out_2_clean:\n",
      "count     31.000000\n",
      "mean      73.907845\n",
      "std       88.551434\n",
      "min        2.683935\n",
      "25%       29.799717\n",
      "50%       40.000000\n",
      "75%       67.420560\n",
      "max      394.796430\n",
      "Name: Energy in kJ, dtype: float64 \n",
      "\n",
      "rockfall:\n",
      "count     99.000000\n",
      "mean      40.450413\n",
      "std       60.392076\n",
      "min        0.464640\n",
      "25%        9.725790\n",
      "50%       19.062540\n",
      "75%       46.970340\n",
      "max      394.796430\n",
      "Name: Energy in kJ, dtype: float64\n"
     ]
    }
   ],
   "source": [
    "#statistische Daten über die Energie\n",
    "print('out_1_clean:')\n",
    "print(out_1_clean['Energy in kJ'].describe(),'\\n')\n",
    "print('out_2_clean:')\n",
    "print(out_2_clean['Energy in kJ'].describe(),'\\n')\n",
    "print('rockfall:')\n",
    "print(rockfall['Energy in kJ'].describe())"
   ]
  },
  {
   "cell_type": "code",
   "execution_count": 22,
   "metadata": {},
   "outputs": [
    {
     "data": {
      "image/png": "[encoded data removed]",
      "text/plain": [
       "<Figure size 432x288 with 3 Axes>"
      ]
     },
     "metadata": {
      "needs_background": "light"
     },
     "output_type": "display_data"
    }
   ],
   "source": [
    "#1 Histogram out_1_clean, Energy\n",
    "plt.subplot(1,3,1)\n",
    "plt.hist(out_1_clean['Energy in kJ'], bins=10)\n",
    "plt.title('Distribution of Energy in Dataset out_1_clean')\n",
    "plt.xlabel('Energy in kJ')\n",
    "plt.ylabel('count')\n",
    "\n",
    "\n",
    "#2 Histogram out_2_clean, Energy\n",
    "plt.subplot(1,3,2)\n",
    "plt.hist(out_2_clean['Energy in kJ'], color = 'green')\n",
    "plt.title('Distribution of Energy in Dataset out_2_clean')\n",
    "plt.xlabel('Energy in kJs')\n",
    "plt.ylabel('')\n",
    "\n",
    "\n",
    "#3 Histogram rockfall, Energy\n",
    "plt.subplot(1,3,3)\n",
    "plt.hist(rockfall['Energy in kJ'], color = 'orange')\n",
    "plt.title('Distribution of Energy in Dataset rockfall')\n",
    "plt.xlabel('Energy in kJ')\n",
    "plt.ylabel('')\n",
    "\n",
    "\n",
    "plt.subplots_adjust(right = 2)\n",
    "plt.show()"
   ]
  },
  {
   "cell_type": "markdown",
   "metadata": {},
   "source": [
    "#### 5.4 Zeit\n",
    "Sobald wir die Ereignisse nach der Stunde gruppieren, in der sie auftreten, sehen wir, dass wir gegen Mittag einen Anstieg der Steinschläge und nach dem Mittag einen Rückgang an Ereignissen haben. Die meisten Steine fallen um 12 Uhr. Da sowohl die Ereignisse und die Verkehrsdichte sich durch den Tag verändern, macht es Sinn den Verkehr in unsere Berechnungnen mit einzufliessen lassen. "
   ]
  },
  {
   "cell_type": "code",
   "execution_count": 23,
   "metadata": {},
   "outputs": [
    {
     "data": {
      "image/png": "[encoded data removed]",
      "text/plain": [
       "<Figure size 432x288 with 3 Axes>"
      ]
     },
     "metadata": {
      "needs_background": "light"
     },
     "output_type": "display_data"
    }
   ],
   "source": [
    "#Verteilung der Steinschläge auf Stunden\n",
    "plt.subplot(1,3,1)\n",
    "plt.hist(out_1_clean['Time'],bins=24)\n",
    "plt.title('Ditribution throghout the day, out_1_clean Dataset')\n",
    "plt.xlabel('Time [h]')\n",
    "plt.ylabel('count')\n",
    "plt.ylim((0,10))\n",
    "plt.xlim((0,23))\n",
    "\n",
    "plt.subplot(1,3,2)\n",
    "plt.hist(out_2_clean['Time'],bins=24, color ='green')\n",
    "plt.title('Ditribution throghout the day, out_2_clean Dataset')\n",
    "plt.xlabel('Time [h]')\n",
    "plt.ylabel('')\n",
    "plt.ylim((0,10))\n",
    "plt.xlim((0,23))\n",
    "\n",
    "plt.subplot(1,3,3)\n",
    "plt.hist(rockfall['Time'],bins=24, color = 'orange')\n",
    "plt.title('Ditribution throghout the day, rockfall Dataset')\n",
    "plt.xlabel('Time [h]')\n",
    "plt.ylabel('')\n",
    "plt.ylim((0,10))\n",
    "plt.xlim((0,23))\n",
    "\n",
    "plt.subplots_adjust(right = 2)\n",
    "plt.show()"
   ]
  },
  {
   "cell_type": "markdown",
   "metadata": {},
   "source": [
    "Zusätzlich zu den Histogrammen (oben) macht es Sinn die Verteilung der Ereignisse als *distribution plot* darstellen um die Verteilung der Ereignisse (vor allem um den Mittag) besser darzustellen."
   ]
  },
  {
   "cell_type": "code",
   "execution_count": 24,
   "metadata": {},
   "outputs": [
    {
     "data": {
      "image/png": "[encoded data removed]",
      "text/plain": [
       "<Figure size 432x288 with 2 Axes>"
      ]
     },
     "metadata": {
      "needs_background": "light"
     },
     "output_type": "display_data"
    }
   ],
   "source": [
    "plt.subplot(1,2,1)\n",
    "plt.hist(rockfall.Time, bins=24, color = 'orange')\n",
    "plt.title('Rockfall events per hour of day')\n",
    "plt.xlabel('Time [h]')\n",
    "plt.ylabel('Count')\n",
    "\n",
    "plt.subplot(1,2,2)\n",
    "sns.distplot(rockfall['Time'], hist=False, rug=True, color='orange')\n",
    "\n",
    "plt.title('Densitiy of Rockfall Events throughout the day')\n",
    "plt.xlabel('Day')\n",
    "plt.ylabel('Density')\n",
    "\n",
    "plt.subplots_adjust(right=2)\n",
    "plt.show()"
   ]
  },
  {
   "cell_type": "markdown",
   "metadata": {},
   "source": [
    "#### 5.5 Irreführende Darstellung\n",
    "Interessant ist, dass die Verknüpfung der beiden Datensätze zu einigen Fehlern in der Datenvisualisierung führen kann. Die ersten beiden Diagramme (unten) zeigen uns, in welchem Verhältnis Masse und Energie bei einem Steinschlag stehen. Was ziemlich linear zu sein scheint. Das macht bisher Sinn. Sobald wir die gleichen Variablen aus dem kombinierten Datensatz(`rockfall`) grafisch darstellen, erhalten wir eine Spitze bei etwa 300 bis 500 kg. Das sagt uns, dass die Gesteine der beiden Datensätze von verschiedenen Höhen fallen müssen. Denn nur eine höhere Geschwindigkeit in einem Datensatz würde den Anstieg der Energie zur selben Masse erklären."
   ]
  },
  {
   "cell_type": "code",
   "execution_count": 25,
   "metadata": {},
   "outputs": [
    {
     "data": {
      "image/png": "[encoded data removed]",
      "text/plain": [
       "<Figure size 432x288 with 3 Axes>"
      ]
     },
     "metadata": {
      "needs_background": "light"
     },
     "output_type": "display_data"
    }
   ],
   "source": [
    "plt.subplot(1,3,1)\n",
    "sns.regplot(x='Mass in kg', y='Energy in kJ',data=out_1_clean)\n",
    "plt.title(\"Mass in correlation to Energy, Dataset out_1_clean\")\n",
    "plt.ylim((0,400))\n",
    "plt.xlim((0,3000))\n",
    "\n",
    "plt.subplot(1,3,2)\n",
    "sns.regplot(x='Mass in kg', y='Energy in kJ',data=out_2_clean, color = 'green')\n",
    "plt.title(\"Mass in correlation to Energy, Dataset out_2_clean\")\n",
    "plt.ylabel('')\n",
    "plt.ylim((0,400))\n",
    "plt.xlim((0,3000))\n",
    "\n",
    "plt.subplot(1,3,3)\n",
    "sns.regplot(x='Mass in kg', y='Energy in kJ',data=rockfall, color = 'orange')\n",
    "plt.title(\"Mass in correlation to Energy, Dataset rockfall\")\n",
    "plt.ylabel('')\n",
    "plt.ylim((0,400))\n",
    "plt.xlim((0,3000))\n",
    "\n",
    "plt.subplots_adjust(right=2)\n",
    "plt.show()"
   ]
  },
  {
   "cell_type": "markdown",
   "metadata": {},
   "source": [
    "Da wir zuvor die korrelation zwischen Energie und Masse geplottet haben, macht es Sinn nun auch noch einen Scatterplot mit allen drei Variablen zu erstellen. Der folgende Plot zeigt die korrelation zwischen Masse und Geschwindigkeit, wobei die Grösse und Farbe der Datenpunkte die jeweilige Energie beschreiben."
   ]
  },
  {
   "cell_type": "code",
   "execution_count": 26,
   "metadata": {},
   "outputs": [
    {
     "data": {
      "image/png": "[encoded data removed]",
      "text/plain": [
       "<Figure size 432x288 with 1 Axes>"
      ]
     },
     "metadata": {
      "needs_background": "light"
     },
     "output_type": "display_data"
    }
   ],
   "source": [
    "#Interessant wäre hier eine Linie einzuzeichnen die die maximale Energieaufnahme des Netzes anzeigt. \n",
    "#Diese Linie wäre allerdings weit über dem Plot\n",
    "sns.scatterplot(rockfall['Speed in m/s'],rockfall['Mass in kg'], size=rockfall['Energy in kJ'], \n",
    "                hue = rockfall['Energy in kJ'], palette = 'copper')\n",
    "plt.title('Correlation of Mass and Speed (Energy)')\n",
    "plt.show()"
   ]
  },
  {
   "cell_type": "markdown",
   "metadata": {},
   "source": [
    "#### 5.6 Verkehrsdichte pro Stunde\n",
    "Die folgende Grafik zeigt die Verkehrsdichte auf Strassen in der Schweiz pro Stunde. Aus diesen Daten wird die Wahrscheinlichkeit eines Treffers in Kombination mit der Verkehrsdichte berechnet. Diese Daten stammen vom Schweizerischen Institut für Statistik aus dem Jahr 2015. Dieser Datensatz ist der Aktuellste des Institutes."
   ]
  },
  {
   "cell_type": "code",
   "execution_count": 27,
   "metadata": {},
   "outputs": [
    {
     "data": {
      "text/html": [
       "<div>\n",
       "<style scoped>\n",
       "    .dataframe tbody tr th:only-of-type {\n",
       "        vertical-align: middle;\n",
       "    }\n",
       "\n",
       "    .dataframe tbody tr th {\n",
       "        vertical-align: top;\n",
       "    }\n",
       "\n",
       "    .dataframe thead th {\n",
       "        text-align: right;\n",
       "    }\n",
       "</style>\n",
       "<table border=\"1\" class=\"dataframe\">\n",
       "  <thead>\n",
       "    <tr style=\"text-align: right;\">\n",
       "      <th></th>\n",
       "      <th>hour</th>\n",
       "      <th>percentile</th>\n",
       "    </tr>\n",
       "  </thead>\n",
       "  <tbody>\n",
       "    <tr>\n",
       "      <th>0</th>\n",
       "      <td>0</td>\n",
       "      <td>0.694661</td>\n",
       "    </tr>\n",
       "    <tr>\n",
       "      <th>1</th>\n",
       "      <td>1</td>\n",
       "      <td>0.328086</td>\n",
       "    </tr>\n",
       "    <tr>\n",
       "      <th>2</th>\n",
       "      <td>2</td>\n",
       "      <td>0.210446</td>\n",
       "    </tr>\n",
       "    <tr>\n",
       "      <th>3</th>\n",
       "      <td>3</td>\n",
       "      <td>0.194323</td>\n",
       "    </tr>\n",
       "    <tr>\n",
       "      <th>4</th>\n",
       "      <td>4</td>\n",
       "      <td>0.451570</td>\n",
       "    </tr>\n",
       "  </tbody>\n",
       "</table>\n",
       "</div>"
      ],
      "text/plain": [
       "   hour  percentile\n",
       "0     0    0.694661\n",
       "1     1    0.328086\n",
       "2     2    0.210446\n",
       "3     3    0.194323\n",
       "4     4    0.451570"
      ]
     },
     "execution_count": 27,
     "metadata": {},
     "output_type": "execute_result"
    }
   ],
   "source": [
    "traffic.head()"
   ]
  },
  {
   "cell_type": "code",
   "execution_count": 28,
   "metadata": {},
   "outputs": [
    {
     "data": {
      "image/png": "[encoded data removed]",
      "text/plain": [
       "<Figure size 432x288 with 2 Axes>"
      ]
     },
     "metadata": {
      "needs_background": "light"
     },
     "output_type": "display_data"
    }
   ],
   "source": [
    "plt.subplot(1,2,1)\n",
    "plt.step(traffic.hour,traffic.percentile)\n",
    "plt.title('Traffic in percent per hour of day')\n",
    "plt.xlabel('Time [h]')\n",
    "plt.ylabel('Percent')\n",
    "\n",
    "plt.subplot(1,2,2)\n",
    "sns.distplot(traffic['percentile'], hist=False, rug=True)\n",
    "plt.title('Densitiy of Traffic throughout the day')\n",
    "plt.xlabel('Day')\n",
    "plt.ylabel('Percentile')\n",
    "\n",
    "plt.subplots_adjust(right=2)\n",
    "plt.show()"
   ]
  },
  {
   "cell_type": "markdown",
   "metadata": {},
   "source": [
    "#### 5.7 Verteilungen\n",
    "Für die Monte-Carlo Simulation wurde die beste Verteilung für die verschiedenen Variablen im Datenset gesucht. Diese sind im R-Notebook nachzuschauen. \n",
    "\n",
    "**Dataset out_1:**\n",
    " - Geschwindigkeit: normal\n",
    " - Masse: lognormal\n",
    " \n",
    "**Dataset out_2:**\n",
    "- Geschwindigkeit: normal\n",
    "- Masse: exponential"
   ]
  },
  {
   "cell_type": "markdown",
   "metadata": {},
   "source": [
    "# Berechnung der Wahrscheinlichkeit\n",
    "\n",
    "### 6.1 Wahrscheinlichkeit wird für den Fall eines Durchbruches innerhalb von 24 Stunden berechnet. \n",
    "\n",
    "Gegeben: \n",
    "\n",
    "- Stein bricht durch Netz\n",
    "- Masse des Steins muss somit über 2 Tonnen sein\n",
    "- Verkehrsaufkommen = 1200 Autos in 24 Stunden, ohne Stau und gleichmässige Verteilung durch den Tag.\n",
    "- Geschwindigkeit = Alle Fahrzeugen fahren konstant 60 km/h, also 16.66 m/s\n",
    "- Durchschnittliche Autodimensionen:\n",
    "    - Länge = 4,4m\n",
    "    - Breite = 1,8m \n",
    "\n",
    "Annahmen:\n",
    "\n",
    "- Stein/Steine haben ein totales Volumen von mindestens 0,75 Kubikmeter\n",
    "- Fahrzeug muss für das Eintreffen eines Todesfalles getroffen werden\n",
    "    - Somit wird der Fall, dass ein Stein vor dem Auto auf der Strasse landet nicht beachtet. \n",
    "- Es kommt zum Todesfall, egal wo das Auto getroffen wird. \n",
    "- Höhe des Fahrzeuges wird nicht beachtet\n",
    "- Geschwindigkeit des Steins wird nicht beachtet\n",
    "- Breite des Steines liegt im Schnitt bei einem Meter\n",
    "\n",
    "Hypothese: Es kommt zu einem Durchbruch und ein Fahrzeug kann von dem Stein getroffen werden"
   ]
  },
  {
   "cell_type": "markdown",
   "metadata": {},
   "source": [
    "#### 6.1.1 Berchnung des Erwartungswertes pro Stunde das ein Steinschlag eintritt."
   ]
  },
  {
   "cell_type": "code",
   "execution_count": 29,
   "metadata": {},
   "outputs": [
    {
     "name": "stdout",
     "output_type": "stream",
     "text": [
      "<class 'pandas.core.frame.DataFrame'>\n",
      "Int64Index: 24 entries, 0 to 23\n",
      "Data columns (total 2 columns):\n",
      "n_Events    24 non-null int64\n",
      "exp_val     24 non-null float64\n",
      "dtypes: float64(1), int64(1)\n",
      "memory usage: 576.0 bytes\n"
     ]
    }
   ],
   "source": [
    "#erweitern der Traffic Liste mit einer neuen Kolonne für den Erwartungswert das ein Fahrzeug sich in Gefahr befindet\n",
    "ev_per_hour = rockfall.groupby(rockfall.Time).count()\n",
    "ev_per_hour = ev_per_hour[['Date']]\n",
    "ev_per_hour = ev_per_hour.rename(columns = {'Date':'n_Events'}) #number of events at that hour\n",
    "\n",
    "#Calculate expected Value of a rockfall at a certain hour\n",
    "ev_per_hour['exp_val'] = ev_per_hour.n_Events / 0.99 / 100\n",
    "ev_per_hour.info()"
   ]
  },
  {
   "cell_type": "code",
   "execution_count": 30,
   "metadata": {},
   "outputs": [
    {
     "data": {
      "text/html": [
       "<div>\n",
       "<style scoped>\n",
       "    .dataframe tbody tr th:only-of-type {\n",
       "        vertical-align: middle;\n",
       "    }\n",
       "\n",
       "    .dataframe tbody tr th {\n",
       "        vertical-align: top;\n",
       "    }\n",
       "\n",
       "    .dataframe thead th {\n",
       "        text-align: right;\n",
       "    }\n",
       "</style>\n",
       "<table border=\"1\" class=\"dataframe\">\n",
       "  <thead>\n",
       "    <tr style=\"text-align: right;\">\n",
       "      <th></th>\n",
       "      <th>n_Events</th>\n",
       "      <th>exp_val</th>\n",
       "    </tr>\n",
       "    <tr>\n",
       "      <th>Time</th>\n",
       "      <th></th>\n",
       "      <th></th>\n",
       "    </tr>\n",
       "  </thead>\n",
       "  <tbody>\n",
       "    <tr>\n",
       "      <th>0</th>\n",
       "      <td>2</td>\n",
       "      <td>0.020202</td>\n",
       "    </tr>\n",
       "    <tr>\n",
       "      <th>1</th>\n",
       "      <td>2</td>\n",
       "      <td>0.020202</td>\n",
       "    </tr>\n",
       "    <tr>\n",
       "      <th>2</th>\n",
       "      <td>3</td>\n",
       "      <td>0.030303</td>\n",
       "    </tr>\n",
       "    <tr>\n",
       "      <th>3</th>\n",
       "      <td>4</td>\n",
       "      <td>0.040404</td>\n",
       "    </tr>\n",
       "    <tr>\n",
       "      <th>4</th>\n",
       "      <td>4</td>\n",
       "      <td>0.040404</td>\n",
       "    </tr>\n",
       "  </tbody>\n",
       "</table>\n",
       "</div>"
      ],
      "text/plain": [
       "      n_Events   exp_val\n",
       "Time                    \n",
       "0            2  0.020202\n",
       "1            2  0.020202\n",
       "2            3  0.030303\n",
       "3            4  0.040404\n",
       "4            4  0.040404"
      ]
     },
     "execution_count": 30,
     "metadata": {},
     "output_type": "execute_result"
    }
   ],
   "source": [
    "ev_per_hour.head()"
   ]
  },
  {
   "cell_type": "code",
   "execution_count": 31,
   "metadata": {},
   "outputs": [
    {
     "name": "stdout",
     "output_type": "stream",
     "text": [
      "Summe exp_val: 1.0\n",
      "Summe Events: 99\n"
     ]
    }
   ],
   "source": [
    "print('Summe exp_val:',ev_per_hour.exp_val.sum())\n",
    "print('Summe Events:',ev_per_hour.n_Events.sum())"
   ]
  },
  {
   "cell_type": "markdown",
   "metadata": {},
   "source": [
    "#### 6.1.2 Berechnung des Erwartungswertes pro Stunde dass sich ein Fahrzeug in der Aufprallzone des Steinschlags befindet."
   ]
  },
  {
   "cell_type": "markdown",
   "metadata": {},
   "source": [
    "#### 6.1.2.1 Totale Zeit in der sich ein Auto in der Aufprallzone des Stein befinden könnte:"
   ]
  },
  {
   "cell_type": "code",
   "execution_count": 32,
   "metadata": {
    "scrolled": true
   },
   "outputs": [
    {
     "name": "stdout",
     "output_type": "stream",
     "text": [
      "Zeit für die Strecke von 9,8 m: 0.588 Sekunden\n",
      "Totale Zeit in der Fahrzeuge in der Gefahrenzone sind: 705.6 Sekunden, oder 11.76 Minuten\n"
     ]
    }
   ],
   "source": [
    "\n",
    "#Zeit für das zurücklegen von 9.8m (2*länge Fahrzeug+ breite des Steins) mit einer Geschwindigkeit von 60km/h\n",
    "\n",
    "speed = 60/3.6 #umwandlung von km/h in m/s\n",
    "\n",
    "#Zeit ergibt sich durch die Formel Strecke/Geschwindigkeit\n",
    "T_single_car = 9.8/speed\n",
    "print(\"Zeit für die Strecke von 9,8 m:\", T_single_car, \"Sekunden\")\n",
    "\n",
    "#Totale Zeit für alle 1200 Fahrzeuge\n",
    "T_car_total = T_single_car * 1200\n",
    "print(\"Totale Zeit in der Fahrzeuge in der Gefahrenzone sind:\", round(T_car_total,1), \"Sekunden, oder\", round(T_car_total/60,2), \"Minuten\")"
   ]
  },
  {
   "cell_type": "markdown",
   "metadata": {},
   "source": [
    "Jetzt, da wir die Zeit haben, in der sich ein Auto in der \"Gefahrenzone\" befindet, können wir die Gesamtzeit (Sekunden in Stunde) berechnen, in der Autos Gefahr laufen, von einem Stein getroffen zu werden.\n",
    "Dazu erstelle ich eine neue Liste mit dem Namen \"car_per_hour\", die die Gesamtzahl der durchfahrenden Autos, die Gesamtzeit der gefährdeten Autos und den Prozentsatz der Autos enthält, die zu dieser Zeit durch diese Zone fahren. \n",
    "\n",
    "Danach können wir den erwarteten Wert eines getroffenen Autos berechnen, indem wir den Erwartungswert, dass ein Stein um diese Zeit durch das Netz bricht, und den Erwartungswert, dass sich ein Auto um diese Zeit in der Gefahrenzone befindet, multiplizieren. \n",
    "Wir berechnen einen erwarteten Wert von 0.00888 oder 0,88% für dieses Ereignis."
   ]
  },
  {
   "cell_type": "markdown",
   "metadata": {},
   "source": [
    "#### 6.1.2.2 Wahrscheinlichkeit das ein Fahrzeug von einem Stein getroffen wird\n",
    "(Unter der Voraussetzung das ein Stein innerhalb von 24 Stunden durch das Netz bricht)"
   ]
  },
  {
   "cell_type": "code",
   "execution_count": 33,
   "metadata": {},
   "outputs": [
    {
     "data": {
      "text/html": [
       "<div>\n",
       "<style scoped>\n",
       "    .dataframe tbody tr th:only-of-type {\n",
       "        vertical-align: middle;\n",
       "    }\n",
       "\n",
       "    .dataframe tbody tr th {\n",
       "        vertical-align: top;\n",
       "    }\n",
       "\n",
       "    .dataframe thead th {\n",
       "        text-align: right;\n",
       "    }\n",
       "</style>\n",
       "<table border=\"1\" class=\"dataframe\">\n",
       "  <thead>\n",
       "    <tr style=\"text-align: right;\">\n",
       "      <th></th>\n",
       "      <th>percentile</th>\n",
       "      <th>cars_passing</th>\n",
       "      <th>t_in_danger</th>\n",
       "      <th>exp_value</th>\n",
       "    </tr>\n",
       "  </thead>\n",
       "  <tbody>\n",
       "    <tr>\n",
       "      <th>0</th>\n",
       "      <td>0.694661</td>\n",
       "      <td>8.335936</td>\n",
       "      <td>4.901530</td>\n",
       "      <td>0.001362</td>\n",
       "    </tr>\n",
       "    <tr>\n",
       "      <th>1</th>\n",
       "      <td>0.328086</td>\n",
       "      <td>3.937033</td>\n",
       "      <td>2.314976</td>\n",
       "      <td>0.000643</td>\n",
       "    </tr>\n",
       "    <tr>\n",
       "      <th>2</th>\n",
       "      <td>0.210446</td>\n",
       "      <td>2.525350</td>\n",
       "      <td>1.484906</td>\n",
       "      <td>0.000412</td>\n",
       "    </tr>\n",
       "    <tr>\n",
       "      <th>3</th>\n",
       "      <td>0.194323</td>\n",
       "      <td>2.331882</td>\n",
       "      <td>1.371146</td>\n",
       "      <td>0.000381</td>\n",
       "    </tr>\n",
       "    <tr>\n",
       "      <th>4</th>\n",
       "      <td>0.451570</td>\n",
       "      <td>5.418836</td>\n",
       "      <td>3.186275</td>\n",
       "      <td>0.000885</td>\n",
       "    </tr>\n",
       "  </tbody>\n",
       "</table>\n",
       "</div>"
      ],
      "text/plain": [
       "   percentile  cars_passing  t_in_danger  exp_value\n",
       "0    0.694661      8.335936     4.901530   0.001362\n",
       "1    0.328086      3.937033     2.314976   0.000643\n",
       "2    0.210446      2.525350     1.484906   0.000412\n",
       "3    0.194323      2.331882     1.371146   0.000381\n",
       "4    0.451570      5.418836     3.186275   0.000885"
      ]
     },
     "execution_count": 33,
     "metadata": {},
     "output_type": "execute_result"
    }
   ],
   "source": [
    "car_per_hour = pd.DataFrame(traffic.percentile)\n",
    "car_per_hour['cars_passing'] = car_per_hour.percentile * 12 #number of cars passing through in this hour\n",
    "car_per_hour['t_in_danger'] = car_per_hour.cars_passing * 0.588 #total time that cars are in danger in this hour\n",
    "car_per_hour['exp_value'] = car_per_hour.t_in_danger/3600 # expected value of cars beeing in danger in this hour \n",
    "\n",
    "car_per_hour.head()"
   ]
  },
  {
   "cell_type": "markdown",
   "metadata": {},
   "source": [
    "#### 6.1.3 Erwartungswert für einen Treffer pro Stunde"
   ]
  },
  {
   "cell_type": "code",
   "execution_count": 34,
   "metadata": {},
   "outputs": [
    {
     "data": {
      "text/html": [
       "<div>\n",
       "<style scoped>\n",
       "    .dataframe tbody tr th:only-of-type {\n",
       "        vertical-align: middle;\n",
       "    }\n",
       "\n",
       "    .dataframe tbody tr th {\n",
       "        vertical-align: top;\n",
       "    }\n",
       "\n",
       "    .dataframe thead th {\n",
       "        text-align: right;\n",
       "    }\n",
       "</style>\n",
       "<table border=\"1\" class=\"dataframe\">\n",
       "  <thead>\n",
       "    <tr style=\"text-align: right;\">\n",
       "      <th></th>\n",
       "      <th>percentile</th>\n",
       "      <th>cars_passing</th>\n",
       "      <th>t_in_danger</th>\n",
       "      <th>exp_value</th>\n",
       "      <th>total_exp_value</th>\n",
       "    </tr>\n",
       "  </thead>\n",
       "  <tbody>\n",
       "    <tr>\n",
       "      <th>0</th>\n",
       "      <td>0.694661</td>\n",
       "      <td>8.335936</td>\n",
       "      <td>4.901530</td>\n",
       "      <td>0.001362</td>\n",
       "      <td>0.000028</td>\n",
       "    </tr>\n",
       "    <tr>\n",
       "      <th>1</th>\n",
       "      <td>0.328086</td>\n",
       "      <td>3.937033</td>\n",
       "      <td>2.314976</td>\n",
       "      <td>0.000643</td>\n",
       "      <td>0.000013</td>\n",
       "    </tr>\n",
       "    <tr>\n",
       "      <th>2</th>\n",
       "      <td>0.210446</td>\n",
       "      <td>2.525350</td>\n",
       "      <td>1.484906</td>\n",
       "      <td>0.000412</td>\n",
       "      <td>0.000012</td>\n",
       "    </tr>\n",
       "    <tr>\n",
       "      <th>3</th>\n",
       "      <td>0.194323</td>\n",
       "      <td>2.331882</td>\n",
       "      <td>1.371146</td>\n",
       "      <td>0.000381</td>\n",
       "      <td>0.000015</td>\n",
       "    </tr>\n",
       "    <tr>\n",
       "      <th>4</th>\n",
       "      <td>0.451570</td>\n",
       "      <td>5.418836</td>\n",
       "      <td>3.186275</td>\n",
       "      <td>0.000885</td>\n",
       "      <td>0.000036</td>\n",
       "    </tr>\n",
       "  </tbody>\n",
       "</table>\n",
       "</div>"
      ],
      "text/plain": [
       "   percentile  cars_passing  t_in_danger  exp_value  total_exp_value\n",
       "0    0.694661      8.335936     4.901530   0.001362         0.000028\n",
       "1    0.328086      3.937033     2.314976   0.000643         0.000013\n",
       "2    0.210446      2.525350     1.484906   0.000412         0.000012\n",
       "3    0.194323      2.331882     1.371146   0.000381         0.000015\n",
       "4    0.451570      5.418836     3.186275   0.000885         0.000036"
      ]
     },
     "execution_count": 34,
     "metadata": {},
     "output_type": "execute_result"
    }
   ],
   "source": [
    "car_per_hour['total_exp_value'] = car_per_hour.exp_value * ev_per_hour.exp_val\n",
    "car_per_hour.head()"
   ]
  },
  {
   "cell_type": "markdown",
   "metadata": {},
   "source": [
    "#### 6.1.4 Plotten der Erwartungswerte als visueller Vergleich"
   ]
  },
  {
   "cell_type": "code",
   "execution_count": 35,
   "metadata": {},
   "outputs": [
    {
     "data": {
      "image/png": "[encoded data removed]",
      "text/plain": [
       "<Figure size 432x288 with 1 Axes>"
      ]
     },
     "metadata": {
      "needs_background": "light"
     },
     "output_type": "display_data"
    }
   ],
   "source": [
    "plt.step(x = car_per_hour.index, y = car_per_hour.total_exp_value,  label='car_per_hour * ev_per_hour')\n",
    "plt.step(x = ev_per_hour.index, y = ev_per_hour.exp_val, label='ev_per_hour')\n",
    "plt.step(x = car_per_hour.index, y = car_per_hour.exp_value, label='car_per_hour')\n",
    "plt.xlabel('Time [h]')\n",
    "plt.ylabel('Expected Value')\n",
    "plt.legend()\n",
    "plt.show()"
   ]
  },
  {
   "cell_type": "markdown",
   "metadata": {},
   "source": [
    "**Lesebeschreibung**: Die blaue Linie in der Grafik zeigt den Erwartungswert eines Durchbruches pro Stunde an. Der maximale Erwartungwert liegt hier bei 0.1 um 12 Uhr. Die orange Linie gibt gibt widerum stündlich den Erwartungswert an dass ein Auto zur selben Zeit eines Steinschlages in der Gefahrenzone ist. Verrechnet man diese Werte ergibt sich daraus der Erwartungswert eines Treffers (grüne Linie).\n"
   ]
  },
  {
   "cell_type": "code",
   "execution_count": 36,
   "metadata": {},
   "outputs": [
    {
     "name": "stdout",
     "output_type": "stream",
     "text": [
      "Totaler Erwartungswert durch den Tag unter der Annahme das ein Stein durchs Netz bricht: 0.00888\n"
     ]
    }
   ],
   "source": [
    "print(\"Totaler Erwartungswert durch den Tag unter der Annahme das ein Stein durchs Netz bricht:\", sum(round(car_per_hour.total_exp_value, 5)))"
   ]
  },
  {
   "cell_type": "markdown",
   "metadata": {},
   "source": [
    "# Monte-Carlo Simulation"
   ]
  },
  {
   "cell_type": "code",
   "execution_count": 37,
   "metadata": {},
   "outputs": [
    {
     "data": {
      "text/html": [
       "<div>\n",
       "<style scoped>\n",
       "    .dataframe tbody tr th:only-of-type {\n",
       "        vertical-align: middle;\n",
       "    }\n",
       "\n",
       "    .dataframe tbody tr th {\n",
       "        vertical-align: top;\n",
       "    }\n",
       "\n",
       "    .dataframe thead th {\n",
       "        text-align: right;\n",
       "    }\n",
       "</style>\n",
       "<table border=\"1\" class=\"dataframe\">\n",
       "  <thead>\n",
       "    <tr style=\"text-align: right;\">\n",
       "      <th></th>\n",
       "      <th>exp_value</th>\n",
       "    </tr>\n",
       "  </thead>\n",
       "  <tbody>\n",
       "    <tr>\n",
       "      <th>0</th>\n",
       "      <td>0.001362</td>\n",
       "    </tr>\n",
       "    <tr>\n",
       "      <th>1</th>\n",
       "      <td>0.000643</td>\n",
       "    </tr>\n",
       "    <tr>\n",
       "      <th>2</th>\n",
       "      <td>0.000412</td>\n",
       "    </tr>\n",
       "    <tr>\n",
       "      <th>3</th>\n",
       "      <td>0.000381</td>\n",
       "    </tr>\n",
       "    <tr>\n",
       "      <th>4</th>\n",
       "      <td>0.000885</td>\n",
       "    </tr>\n",
       "  </tbody>\n",
       "</table>\n",
       "</div>"
      ],
      "text/plain": [
       "   exp_value\n",
       "0   0.001362\n",
       "1   0.000643\n",
       "2   0.000412\n",
       "3   0.000381\n",
       "4   0.000885"
      ]
     },
     "execution_count": 37,
     "metadata": {},
     "output_type": "execute_result"
    }
   ],
   "source": [
    "#list with expected value for cars per hour (index equals hour in day, 0-24h:\n",
    "total_in_danger = car_per_hour['exp_value']\n",
    "total_in_danger = pd.DataFrame(total_in_danger)\n",
    "total_in_danger.head()"
   ]
  },
  {
   "cell_type": "markdown",
   "metadata": {},
   "source": [
    "**Beschreibung der Monte-Carlo-Simulation**\n",
    "\n",
    "Die Monte-Carlo Simulation besteht aus mehreren Funktionen:\n",
    "- `rock_event`: Nimmt eine random generierte Geschwindigkeit und Masse und testet ob das Netz bricht. Zusätzlich wird hier auch die bereits im Netz liegende Masse in den Test aufgenommen.\n",
    "- `net_clearing_process`: Entleert das Netz alle 24 Stunden zu einer festgelegten Zeit\n",
    "- `car_hitting`: Im Falle eines Durchbruches (wenn die Funktion `rock_event` einen Druchbruch meldet) testet diese Funktion ob ein Fahrzueg getroffen wird. \n",
    "- `monte_carlo_rockfall`: Verwaltet die Simulation und berechnet unter anderem random generierte Werte für Masse und Geschwindigkeit bei einem Ereignis."
   ]
  },
  {
   "cell_type": "code",
   "execution_count": 38,
   "metadata": {},
   "outputs": [],
   "source": [
    "year_hours = 8760\n",
    "num_of_simulations = 100\n",
    "num_of_failures = 0\n",
    "mass_in_net = 0\n",
    "\n",
    "def rock_event(speed,mass):\n",
    "    global mass_in_net, num_of_failures\n",
    "    broken = False\n",
    "    energy = (0.5 * mass * (speed**2)) / 1000\n",
    "    if energy >= 1000:\n",
    "        broken = True\n",
    "    elif energy >= 500:\n",
    "        if mass_in_net >= 2000:\n",
    "            broken = True\n",
    "    if broken:\n",
    "        num_of_failures += 1\n",
    "    \n",
    "    mass_in_net += mass\n",
    "    return broken\n",
    "\n",
    "def net_clearing_process(now, event_time_delta, clearing_time_minute, day_minutes):\n",
    "    global mass_in_net\n",
    "    current_time = now % day_minutes\n",
    "    event_time = current_time + event_time_delta\n",
    "    if current_time < clearing_time_minute:\n",
    "        if event_time >= clearing_time_minute:\n",
    "            mass_in_net = 0\n",
    "    else:\n",
    "        if event_time >= (day_minutes + clearing_time_minute):\n",
    "            mass_in_net = 0\n",
    "\n",
    "def car_hitting(event_time, day_minutes):\n",
    "    global car_hit_stat, car_hit_even, car_hit_max\n",
    "    current_time = event_time % day_minutes\n",
    "    current_hour = (current_time / 60)\n",
    "    current_hour = math.floor(current_hour)\n",
    "    hit_number = random.random()\n",
    "    \n",
    "    if hit_number <= total_in_danger.exp_value[current_hour]:\n",
    "        car_hit_stat += 1\n",
    "    if hit_number <= 0.008166:\n",
    "        car_hit_even += 1\n",
    "    if hit_number <= 0.0175843437:\n",
    "        car_hit_max += 1\n",
    "    \n",
    "def monte_carlo_rockfall(num_of_simulations, clearing_time_hour):\n",
    "    global mass_in_net\n",
    "    day_minutes = 24 * 60\n",
    "    year_minutes = day_minutes * 365\n",
    "    clearing_time_minute = clearing_time_hour * 60\n",
    "    \n",
    "    for simulation in range(1,num_of_simulations):\n",
    "        mass_in_net = 0\n",
    "        now = 0\n",
    "        time_to_next_event_out_1 = 3732\n",
    "        time_to_next_event_out_2 = 3892\n",
    "        while now < year_minutes:\n",
    "            if time_to_next_event_out_1<time_to_next_event_out_2:\n",
    "                net_clearing_process(now, time_to_next_event_out_1, clearing_time_minute, day_minutes)\n",
    "                time_to_next_event_out_2 = time_to_next_event_out_2-time_to_next_event_out_1\n",
    "                now += time_to_next_event_out_1\n",
    "                time_to_next_event_out_1 = 3746\n",
    "                speed_1 = np.random.normal(loc=8.788235, scale=1.974509 , size=1)\n",
    "                mass_1 = np.random.lognormal(mean=5.944893, sigma=1.045295, size=1)\n",
    "                broken = rock_event(speed_1,mass_1)\n",
    "                if broken:\n",
    "                    car_hitting(now, day_minutes)\n",
    "                    break\n",
    "            else:\n",
    "                net_clearing_process(now,time_to_next_event_out_2, clearing_time_minute, day_minutes)\n",
    "                time_to_next_event_out_1 = time_to_next_event_out_1-time_to_next_event_out_2\n",
    "                now += time_to_next_event_out_2\n",
    "                time_to_next_event_out_2 = 3864\n",
    "                speed_2 = np.random.normal(loc=37.79062,scale=5.3108,size=1)\n",
    "                mass_2 = np.random.exponential(scale=1/0.0100724 ,size=1)\n",
    "                broken = rock_event(speed_2, mass_2)\n",
    "                if broken:\n",
    "                    car_hitting(now, day_minutes)\n",
    "                    break\n",
    "            \n",
    "    prob = num_of_failures/num_of_simulations\n",
    "    print('probability:', prob)\n",
    "    print('failures: ', num_of_failures)\n",
    "    print('car hit stat:', car_hit_stat, '(Calculated with traffic data of the swiss institute of statistics)')\n",
    "    print('car hit even:', car_hit_even, '(Calculated with an evenly distributed traffic)')\n",
    "    print('car hit max:', car_hit_max, '(Calculated with maximum traffic at all times)')\n",
    "    \n",
    "car_hit_stat = 0\n",
    "car_hit_even = 0\n",
    "car_hit_max = 0\n",
    "num_of_failures = 0\n",
    "mass_in_net = 0                     "
   ]
  },
  {
   "cell_type": "code",
   "execution_count": 39,
   "metadata": {},
   "outputs": [
    {
     "name": "stdout",
     "output_type": "stream",
     "text": [
      "probability: 0.021\n",
      "failures:  63\n",
      "car hit stat: 0 (Calculated with traffic data of the swiss institute of statistics)\n",
      "car hit even: 0 (Calculated with an evenly distributed traffic)\n",
      "car hit max: 0 (Calculated with maximum traffic at all times)\n"
     ]
    }
   ],
   "source": [
    "monte_carlo_rockfall(num_of_simulations=3000, clearing_time_hour = 8)"
   ]
  },
  {
   "cell_type": "markdown",
   "metadata": {},
   "source": [
    "#### 7.1 Auswertung der Simulation\n",
    "Die Simulation wurde auf einem Server (SWITCH Engine) 100 Mal mit 100.000 Jahren durchgeführt. Die Ergebnise sind in den CSV's 'sim_result' und 'pro_counter' dokumentiert."
   ]
  },
  {
   "cell_type": "markdown",
   "metadata": {},
   "source": [
    "#### Result Table\n",
    "\n",
    "`simulation_id` &rarr; 1 - 100 Simulation von 100,000 Einjahresdurchläufen\n",
    "\n",
    "`num_rock_through_net` &rarr; Anzahl Ereignisse die durch das Netz brechen\n",
    "\n",
    "`prob_rock_through_net_mc` &rarr; $P(S \\geq 1)$\n",
    "\n",
    "`car_hit_stat` &rarr; Anzahl der Autotreffer in einer Simulation unter Berücksichtigung der Tageszeit des Durchbruchs und der Tagesverkehrsdichtestatistik des BfS\n",
    "\n",
    "`prob_car_hit_stat_mc` &rarr; $P(B = 1)$ wobei $B =$ 'car hit during one year' unter Berücksichtigung von `car_hit_stat`\n",
    "\n",
    "`car_hit_even` &rarr; Anzahl der Autotreffer in einer Simulation unter der Annahme, dass die Verkehrsdichte gleichmäßig verteilt ist.\n",
    "\n",
    "`prob_car_hit_even_mc` &rarr; $P(E = 1)$ wobei $e =$ 'car hit during one year' unter Berücksichtigung von `car_hit_even`\n",
    "\n",
    "`car_hit_max` &rarr; Anzahl der Autotreffer in einer Simulation unter der Annahme, dass die maximale Verkehrsdichte unter Berücksichtigung der Statistiken des BfS erreicht wird.\n",
    "\n",
    "`prob_car_hit_max_mc` &rarr; $P(M = 1)$ wobei $m =$ 'car hit during one year' unter Berücksichtigung von `car_hit_max`\n",
    "\n",
    "`num_of_years` &rarr; Anzahl der simulierten, gleichen Jahre in einer Simulation"
   ]
  },
  {
   "cell_type": "code",
   "execution_count": 40,
   "metadata": {},
   "outputs": [
    {
     "data": {
      "text/html": [
       "<div>\n",
       "<style scoped>\n",
       "    .dataframe tbody tr th:only-of-type {\n",
       "        vertical-align: middle;\n",
       "    }\n",
       "\n",
       "    .dataframe tbody tr th {\n",
       "        vertical-align: top;\n",
       "    }\n",
       "\n",
       "    .dataframe thead th {\n",
       "        text-align: right;\n",
       "    }\n",
       "</style>\n",
       "<table border=\"1\" class=\"dataframe\">\n",
       "  <thead>\n",
       "    <tr style=\"text-align: right;\">\n",
       "      <th></th>\n",
       "      <th>Unnamed: 0</th>\n",
       "      <th>simulation_id</th>\n",
       "      <th>num_rock_through_net</th>\n",
       "      <th>prob_rock_through_net_mc</th>\n",
       "      <th>car_hit_stat</th>\n",
       "      <th>prob_car_hit_stat_mc</th>\n",
       "      <th>car_hit_even</th>\n",
       "      <th>prob_car_hit_even_mc</th>\n",
       "      <th>car_hit_max</th>\n",
       "      <th>prob_car_hit_max_mc</th>\n",
       "      <th>num_of_years</th>\n",
       "    </tr>\n",
       "  </thead>\n",
       "  <tbody>\n",
       "    <tr>\n",
       "      <th>0</th>\n",
       "      <td>1</td>\n",
       "      <td>1</td>\n",
       "      <td>1702</td>\n",
       "      <td>0.01702</td>\n",
       "      <td>18</td>\n",
       "      <td>0.00018</td>\n",
       "      <td>15</td>\n",
       "      <td>0.00015</td>\n",
       "      <td>37</td>\n",
       "      <td>0.00037</td>\n",
       "      <td>100000.0</td>\n",
       "    </tr>\n",
       "    <tr>\n",
       "      <th>1</th>\n",
       "      <td>2</td>\n",
       "      <td>2</td>\n",
       "      <td>1614</td>\n",
       "      <td>0.01614</td>\n",
       "      <td>12</td>\n",
       "      <td>0.00012</td>\n",
       "      <td>20</td>\n",
       "      <td>0.00020</td>\n",
       "      <td>36</td>\n",
       "      <td>0.00036</td>\n",
       "      <td>100000.0</td>\n",
       "    </tr>\n",
       "    <tr>\n",
       "      <th>2</th>\n",
       "      <td>3</td>\n",
       "      <td>3</td>\n",
       "      <td>1561</td>\n",
       "      <td>0.01561</td>\n",
       "      <td>16</td>\n",
       "      <td>0.00016</td>\n",
       "      <td>17</td>\n",
       "      <td>0.00017</td>\n",
       "      <td>32</td>\n",
       "      <td>0.00032</td>\n",
       "      <td>100000.0</td>\n",
       "    </tr>\n",
       "    <tr>\n",
       "      <th>3</th>\n",
       "      <td>4</td>\n",
       "      <td>4</td>\n",
       "      <td>1638</td>\n",
       "      <td>0.01638</td>\n",
       "      <td>11</td>\n",
       "      <td>0.00011</td>\n",
       "      <td>15</td>\n",
       "      <td>0.00015</td>\n",
       "      <td>29</td>\n",
       "      <td>0.00029</td>\n",
       "      <td>100000.0</td>\n",
       "    </tr>\n",
       "    <tr>\n",
       "      <th>4</th>\n",
       "      <td>5</td>\n",
       "      <td>5</td>\n",
       "      <td>1657</td>\n",
       "      <td>0.01657</td>\n",
       "      <td>11</td>\n",
       "      <td>0.00011</td>\n",
       "      <td>11</td>\n",
       "      <td>0.00011</td>\n",
       "      <td>32</td>\n",
       "      <td>0.00032</td>\n",
       "      <td>100000.0</td>\n",
       "    </tr>\n",
       "  </tbody>\n",
       "</table>\n",
       "</div>"
      ],
      "text/plain": [
       "   Unnamed: 0  simulation_id  num_rock_through_net  prob_rock_through_net_mc  \\\n",
       "0           1              1                  1702                   0.01702   \n",
       "1           2              2                  1614                   0.01614   \n",
       "2           3              3                  1561                   0.01561   \n",
       "3           4              4                  1638                   0.01638   \n",
       "4           5              5                  1657                   0.01657   \n",
       "\n",
       "   car_hit_stat  prob_car_hit_stat_mc  car_hit_even  prob_car_hit_even_mc  \\\n",
       "0            18               0.00018            15               0.00015   \n",
       "1            12               0.00012            20               0.00020   \n",
       "2            16               0.00016            17               0.00017   \n",
       "3            11               0.00011            15               0.00015   \n",
       "4            11               0.00011            11               0.00011   \n",
       "\n",
       "   car_hit_max  prob_car_hit_max_mc  num_of_years  \n",
       "0           37              0.00037      100000.0  \n",
       "1           36              0.00036      100000.0  \n",
       "2           32              0.00032      100000.0  \n",
       "3           29              0.00029      100000.0  \n",
       "4           32              0.00032      100000.0  "
      ]
     },
     "execution_count": 40,
     "metadata": {},
     "output_type": "execute_result"
    }
   ],
   "source": [
    "sim_result.head()"
   ]
  },
  {
   "cell_type": "code",
   "execution_count": 41,
   "metadata": {},
   "outputs": [
    {
     "data": {
      "text/html": [
       "<div>\n",
       "<style scoped>\n",
       "    .dataframe tbody tr th:only-of-type {\n",
       "        vertical-align: middle;\n",
       "    }\n",
       "\n",
       "    .dataframe tbody tr th {\n",
       "        vertical-align: top;\n",
       "    }\n",
       "\n",
       "    .dataframe thead th {\n",
       "        text-align: right;\n",
       "    }\n",
       "</style>\n",
       "<table border=\"1\" class=\"dataframe\">\n",
       "  <thead>\n",
       "    <tr style=\"text-align: right;\">\n",
       "      <th></th>\n",
       "      <th>Unnamed: 0</th>\n",
       "      <th>current_year</th>\n",
       "      <th>events_current_year</th>\n",
       "      <th>num_rock_through_net</th>\n",
       "      <th>yearly_prob_rock_through_net_mc</th>\n",
       "      <th>yearly_prob_car_hit_stat_mc</th>\n",
       "      <th>yearly_prob_car_hit_even_my</th>\n",
       "      <th>yearly_prob_car_hit_max_mc</th>\n",
       "    </tr>\n",
       "  </thead>\n",
       "  <tbody>\n",
       "    <tr>\n",
       "      <th>0</th>\n",
       "      <td>1</td>\n",
       "      <td>1</td>\n",
       "      <td>0</td>\n",
       "      <td>0</td>\n",
       "      <td>0.0</td>\n",
       "      <td>0.0</td>\n",
       "      <td>0.0</td>\n",
       "      <td>0.0</td>\n",
       "    </tr>\n",
       "    <tr>\n",
       "      <th>1</th>\n",
       "      <td>2</td>\n",
       "      <td>2</td>\n",
       "      <td>0</td>\n",
       "      <td>0</td>\n",
       "      <td>0.0</td>\n",
       "      <td>0.0</td>\n",
       "      <td>0.0</td>\n",
       "      <td>0.0</td>\n",
       "    </tr>\n",
       "    <tr>\n",
       "      <th>2</th>\n",
       "      <td>3</td>\n",
       "      <td>3</td>\n",
       "      <td>0</td>\n",
       "      <td>0</td>\n",
       "      <td>0.0</td>\n",
       "      <td>0.0</td>\n",
       "      <td>0.0</td>\n",
       "      <td>0.0</td>\n",
       "    </tr>\n",
       "    <tr>\n",
       "      <th>3</th>\n",
       "      <td>4</td>\n",
       "      <td>4</td>\n",
       "      <td>0</td>\n",
       "      <td>0</td>\n",
       "      <td>0.0</td>\n",
       "      <td>0.0</td>\n",
       "      <td>0.0</td>\n",
       "      <td>0.0</td>\n",
       "    </tr>\n",
       "    <tr>\n",
       "      <th>4</th>\n",
       "      <td>5</td>\n",
       "      <td>5</td>\n",
       "      <td>0</td>\n",
       "      <td>0</td>\n",
       "      <td>0.0</td>\n",
       "      <td>0.0</td>\n",
       "      <td>0.0</td>\n",
       "      <td>0.0</td>\n",
       "    </tr>\n",
       "  </tbody>\n",
       "</table>\n",
       "</div>"
      ],
      "text/plain": [
       "   Unnamed: 0  current_year  events_current_year  num_rock_through_net  \\\n",
       "0           1             1                    0                     0   \n",
       "1           2             2                    0                     0   \n",
       "2           3             3                    0                     0   \n",
       "3           4             4                    0                     0   \n",
       "4           5             5                    0                     0   \n",
       "\n",
       "   yearly_prob_rock_through_net_mc  yearly_prob_car_hit_stat_mc  \\\n",
       "0                              0.0                          0.0   \n",
       "1                              0.0                          0.0   \n",
       "2                              0.0                          0.0   \n",
       "3                              0.0                          0.0   \n",
       "4                              0.0                          0.0   \n",
       "\n",
       "   yearly_prob_car_hit_even_my  yearly_prob_car_hit_max_mc  \n",
       "0                          0.0                         0.0  \n",
       "1                          0.0                         0.0  \n",
       "2                          0.0                         0.0  \n",
       "3                          0.0                         0.0  \n",
       "4                          0.0                         0.0  "
      ]
     },
     "execution_count": 41,
     "metadata": {},
     "output_type": "execute_result"
    }
   ],
   "source": [
    "pro_counter.head()"
   ]
  },
  {
   "cell_type": "markdown",
   "metadata": {},
   "source": [
    "##### 7.1.1 Statistische Auswertung der Resultate\n",
    "Die Resultate, die während 100 Durchläufen der Simulation gespeichert wurden wurden im Dataset `sim_result` gespeichert und werden unten als statistische Werte dargestellt. Details zu den spezifischen Wahrscheinlichkeiten finden Sie im nächsten Abschnitt. \n",
    "Der Mittelwert und Median der Wahrscheinlichkeit, dass ein Fahrzeug getroffen wird, liegt in allen drei Fällen (Verkehr statistisch Verteilt, Verkehr gleichverteilt und Verkehr immer maximal) über dem vorgegebenen Schwellenwert 1.e-04. "
   ]
  },
  {
   "cell_type": "code",
   "execution_count": 42,
   "metadata": {
    "scrolled": true
   },
   "outputs": [
    {
     "data": {
      "text/html": [
       "<div>\n",
       "<style scoped>\n",
       "    .dataframe tbody tr th:only-of-type {\n",
       "        vertical-align: middle;\n",
       "    }\n",
       "\n",
       "    .dataframe tbody tr th {\n",
       "        vertical-align: top;\n",
       "    }\n",
       "\n",
       "    .dataframe thead th {\n",
       "        text-align: right;\n",
       "    }\n",
       "</style>\n",
       "<table border=\"1\" class=\"dataframe\">\n",
       "  <thead>\n",
       "    <tr style=\"text-align: right;\">\n",
       "      <th></th>\n",
       "      <th>Unnamed: 0</th>\n",
       "      <th>simulation_id</th>\n",
       "      <th>num_rock_through_net</th>\n",
       "      <th>prob_rock_through_net_mc</th>\n",
       "      <th>car_hit_stat</th>\n",
       "      <th>prob_car_hit_stat_mc</th>\n",
       "      <th>car_hit_even</th>\n",
       "      <th>prob_car_hit_even_mc</th>\n",
       "      <th>car_hit_max</th>\n",
       "      <th>prob_car_hit_max_mc</th>\n",
       "      <th>num_of_years</th>\n",
       "    </tr>\n",
       "  </thead>\n",
       "  <tbody>\n",
       "    <tr>\n",
       "      <th>count</th>\n",
       "      <td>100.000000</td>\n",
       "      <td>100.000000</td>\n",
       "      <td>100.000000</td>\n",
       "      <td>100.000000</td>\n",
       "      <td>100.000000</td>\n",
       "      <td>100.000000</td>\n",
       "      <td>100.000000</td>\n",
       "      <td>100.000000</td>\n",
       "      <td>100.000000</td>\n",
       "      <td>100.000000</td>\n",
       "      <td>100.0</td>\n",
       "    </tr>\n",
       "    <tr>\n",
       "      <th>mean</th>\n",
       "      <td>50.500000</td>\n",
       "      <td>50.500000</td>\n",
       "      <td>1620.360000</td>\n",
       "      <td>0.016204</td>\n",
       "      <td>12.330000</td>\n",
       "      <td>0.000123</td>\n",
       "      <td>13.380000</td>\n",
       "      <td>0.000134</td>\n",
       "      <td>28.790000</td>\n",
       "      <td>0.000288</td>\n",
       "      <td>100000.0</td>\n",
       "    </tr>\n",
       "    <tr>\n",
       "      <th>std</th>\n",
       "      <td>29.011492</td>\n",
       "      <td>29.011492</td>\n",
       "      <td>42.178677</td>\n",
       "      <td>0.000422</td>\n",
       "      <td>2.978221</td>\n",
       "      <td>0.000030</td>\n",
       "      <td>3.350803</td>\n",
       "      <td>0.000034</td>\n",
       "      <td>5.087706</td>\n",
       "      <td>0.000051</td>\n",
       "      <td>0.0</td>\n",
       "    </tr>\n",
       "    <tr>\n",
       "      <th>min</th>\n",
       "      <td>1.000000</td>\n",
       "      <td>1.000000</td>\n",
       "      <td>1509.000000</td>\n",
       "      <td>0.015090</td>\n",
       "      <td>6.000000</td>\n",
       "      <td>0.000060</td>\n",
       "      <td>5.000000</td>\n",
       "      <td>0.000050</td>\n",
       "      <td>16.000000</td>\n",
       "      <td>0.000160</td>\n",
       "      <td>100000.0</td>\n",
       "    </tr>\n",
       "    <tr>\n",
       "      <th>25%</th>\n",
       "      <td>25.750000</td>\n",
       "      <td>25.750000</td>\n",
       "      <td>1594.750000</td>\n",
       "      <td>0.015947</td>\n",
       "      <td>10.000000</td>\n",
       "      <td>0.000100</td>\n",
       "      <td>11.000000</td>\n",
       "      <td>0.000110</td>\n",
       "      <td>25.000000</td>\n",
       "      <td>0.000250</td>\n",
       "      <td>100000.0</td>\n",
       "    </tr>\n",
       "    <tr>\n",
       "      <th>50%</th>\n",
       "      <td>50.500000</td>\n",
       "      <td>50.500000</td>\n",
       "      <td>1625.500000</td>\n",
       "      <td>0.016255</td>\n",
       "      <td>12.000000</td>\n",
       "      <td>0.000120</td>\n",
       "      <td>13.500000</td>\n",
       "      <td>0.000135</td>\n",
       "      <td>29.000000</td>\n",
       "      <td>0.000290</td>\n",
       "      <td>100000.0</td>\n",
       "    </tr>\n",
       "    <tr>\n",
       "      <th>75%</th>\n",
       "      <td>75.250000</td>\n",
       "      <td>75.250000</td>\n",
       "      <td>1646.500000</td>\n",
       "      <td>0.016465</td>\n",
       "      <td>14.000000</td>\n",
       "      <td>0.000140</td>\n",
       "      <td>15.000000</td>\n",
       "      <td>0.000150</td>\n",
       "      <td>32.000000</td>\n",
       "      <td>0.000320</td>\n",
       "      <td>100000.0</td>\n",
       "    </tr>\n",
       "    <tr>\n",
       "      <th>max</th>\n",
       "      <td>100.000000</td>\n",
       "      <td>100.000000</td>\n",
       "      <td>1705.000000</td>\n",
       "      <td>0.017050</td>\n",
       "      <td>21.000000</td>\n",
       "      <td>0.000210</td>\n",
       "      <td>21.000000</td>\n",
       "      <td>0.000210</td>\n",
       "      <td>41.000000</td>\n",
       "      <td>0.000410</td>\n",
       "      <td>100000.0</td>\n",
       "    </tr>\n",
       "  </tbody>\n",
       "</table>\n",
       "</div>"
      ],
      "text/plain": [
       "       Unnamed: 0  simulation_id  num_rock_through_net  \\\n",
       "count  100.000000     100.000000            100.000000   \n",
       "mean    50.500000      50.500000           1620.360000   \n",
       "std     29.011492      29.011492             42.178677   \n",
       "min      1.000000       1.000000           1509.000000   \n",
       "25%     25.750000      25.750000           1594.750000   \n",
       "50%     50.500000      50.500000           1625.500000   \n",
       "75%     75.250000      75.250000           1646.500000   \n",
       "max    100.000000     100.000000           1705.000000   \n",
       "\n",
       "       prob_rock_through_net_mc  car_hit_stat  prob_car_hit_stat_mc  \\\n",
       "count                100.000000    100.000000            100.000000   \n",
       "mean                   0.016204     12.330000              0.000123   \n",
       "std                    0.000422      2.978221              0.000030   \n",
       "min                    0.015090      6.000000              0.000060   \n",
       "25%                    0.015947     10.000000              0.000100   \n",
       "50%                    0.016255     12.000000              0.000120   \n",
       "75%                    0.016465     14.000000              0.000140   \n",
       "max                    0.017050     21.000000              0.000210   \n",
       "\n",
       "       car_hit_even  prob_car_hit_even_mc  car_hit_max  prob_car_hit_max_mc  \\\n",
       "count    100.000000            100.000000   100.000000           100.000000   \n",
       "mean      13.380000              0.000134    28.790000             0.000288   \n",
       "std        3.350803              0.000034     5.087706             0.000051   \n",
       "min        5.000000              0.000050    16.000000             0.000160   \n",
       "25%       11.000000              0.000110    25.000000             0.000250   \n",
       "50%       13.500000              0.000135    29.000000             0.000290   \n",
       "75%       15.000000              0.000150    32.000000             0.000320   \n",
       "max       21.000000              0.000210    41.000000             0.000410   \n",
       "\n",
       "       num_of_years  \n",
       "count         100.0  \n",
       "mean       100000.0  \n",
       "std             0.0  \n",
       "min        100000.0  \n",
       "25%        100000.0  \n",
       "50%        100000.0  \n",
       "75%        100000.0  \n",
       "max        100000.0  "
      ]
     },
     "execution_count": 42,
     "metadata": {},
     "output_type": "execute_result"
    }
   ],
   "source": [
    "sim_result.describe()"
   ]
  },
  {
   "cell_type": "markdown",
   "metadata": {},
   "source": [
    "##### 7.1.2 Wahrscheinlichkeiten\n",
    "Hier stellen wir die statistischen Merkmale der Wahrscheinlichkeiten vor, die wir aus den Simulationen erhalten haben"
   ]
  },
  {
   "cell_type": "code",
   "execution_count": 43,
   "metadata": {},
   "outputs": [
    {
     "data": {
      "image/png": "[encoded data removed]",
      "text/plain": [
       "<Figure size 432x288 with 1 Axes>"
      ]
     },
     "metadata": {
      "needs_background": "light"
     },
     "output_type": "display_data"
    }
   ],
   "source": [
    "\n",
    "sns.distplot(sim_result.prob_car_hit_stat_mc, hist=False, color='orange', label='prob_car_hit_stat_mc')\n",
    "sns.distplot(sim_result.prob_car_hit_max_mc, hist=False, color='blue', label='prob_car_hit_max_mc')\n",
    "sns.distplot(sim_result.prob_car_hit_even_mc, hist=False, color='green', label='prob_car_hit_even_mc')\n",
    "car_per_hour\n",
    "plt.title('Densitiy of Probability of a Car getting hit')\n",
    "plt.xlabel('Probability')\n",
    "plt.ylabel('Density');\n",
    "plt.show()"
   ]
  },
  {
   "cell_type": "markdown",
   "metadata": {},
   "source": [
    "**Lesebeschrieb**: Die Grafik zeigt die Verteilungen der Wahrscheinlichkeit dass ein Fahrzeug von einem Steinschlag getroffen wird. Die orange Linie zeigt die Verteilung eines Treffers wenn der Verkehr statistisch verteilt ist. Die grüne Linie zeigt die Wahrscheinlichkeit eines Treffers wenn der Verkehr uniform Verteilt ist. Bei konstantem Maximalem Verkehrsaufkommen ist die Wahrscheinlichkeitsverteilung um einiges höher (blaue Linie)."
   ]
  },
  {
   "cell_type": "markdown",
   "metadata": {},
   "source": [
    "##### 7.1.3  Konvergenz der Wahrscheinlichkeit während der Simulation\n",
    "Es ist wichtig zu wissen, ob die Monte-Carlo-Simulation auf einen bestimmten Wert konvergiert. Die folgende Grafik zeigt, wie sich die Wahrscheinlichkeit nach etwa 500000 simulierten Jahren auf etwa 0,017 oder 1,7% einpendelt das ein Steinschlag durch das Netz bricht."
   ]
  },
  {
   "cell_type": "code",
   "execution_count": 44,
   "metadata": {},
   "outputs": [
    {
     "data": {
      "text/plain": [
       "Text(0, 0.5, 'Probability')"
      ]
     },
     "execution_count": 44,
     "metadata": {},
     "output_type": "execute_result"
    },
    {
     "data": {
      "image/png": "[encoded data removed]",
      "text/plain": [
       "<Figure size 432x288 with 1 Axes>"
      ]
     },
     "metadata": {
      "needs_background": "light"
     },
     "output_type": "display_data"
    }
   ],
   "source": [
    "\n",
    "\n",
    "g = sns.lineplot(x=pro_counter.current_year, y=pro_counter.yearly_prob_rock_through_net_mc)\n",
    "\n",
    "\n",
    "g.axhline(0.0162, ls='--', color = 'red')\n",
    "plt.title('Convergence of Probability of \\'breakthrough\\' during Simulation')\n",
    "plt.xlabel('Time [years]')\n",
    "plt.ylabel('Probability')"
   ]
  },
  {
   "cell_type": "markdown",
   "metadata": {},
   "source": [
    "**Lesebeschrieb**: Die Grafik (oberhalb) zeigt wie sich die berechnete Wahrscheinlichkeit der Monte-Carlo Simulation im Verlauf der simulation einpendelt. Der Wert konvergiert zu ca. 0.017, oder 1.7%. Die rote Linie beschreibt die berechnete Wahrscheinlichkeit eines Durchbruches (0.0162 oder 1.62 %)."
   ]
  },
  {
   "cell_type": "markdown",
   "metadata": {},
   "source": [
    "# Kommunikation an die Bevölkerung\n",
    "Die Simulation von einer Million Jahre ergab, dass wir eine Wahrscheinlichkeit eines Todesfalles von **0.000115** also 0.0115% haben. Liegen wir über dem Wert **0.0001** muss die Strasse laut den Vorgaben geschlossen werden. Wir liegen zwar nur knapp darüber, müssen allerdings dieser Vorgabe folge leisten. Im nächsten Schritt versuche ich zu ermitteln in welcher Form die Bevölkerung von der Entscheidung der Strassensperrung informiert werden sollte. Ziel ist es möglichst adressatengerecht zu kommunizieren und sich der Zielgruppe in der Form der Kommunikation anzupassen."
   ]
  },
  {
   "cell_type": "markdown",
   "metadata": {},
   "source": [
    "### 8.1 Altersverteilung in Graubünden:\n",
    "Daten des Bundesamts für Statistik aus der Tabelle 'Ständige Wohnbevölkerung nach Altersklasse und Altersmasszahlen nach Kanton, am 31.12.2018' [Link zur Statistik](https://www.bfs.admin.ch/bfs/de/home/statistiken/bevoelkerung/stand-entwicklung/alter-zivilstand-staatsangehoerigkeit.assetdetail.9486012.html)\n",
    "\n",
    "| Alter | Anzahl |\n",
    "| --- | --- | \n",
    "| Total | 198.379 |\n",
    "| 0-19 | 35678 |\n",
    "| 20-39 | 48731 |\n",
    "| 40-64 | 71655 |\n",
    "| 65-79 | 30999 |\n",
    "| 80+ | 11307 |\n",
    "   \n",
    "        \n",
    "Laut SBB Fahrplan fahren keine Busse durch Schiers. Da die Sperrung eine Strasse in Schiers betrifft fällt die Altersgruppe unter 18 Jahren (0-19 Jahre) weg. Da sich die Mehrheit der Graubündner Bevölkerung im Alter von 40-64 Jahren befindet wird das unsere Zielgruppe sein. Das bedeutet dass wir unsere Kommunikation auf diese Personen ausrichten werden. Trotzdem werden alle Bürger der direkt betroffenen Orte mit einem Flyer benachrichtigt."
   ]
  },
  {
   "cell_type": "markdown",
   "metadata": {},
   "source": [
    "### 8.2 Visualisierungskonzept\n",
    "Es wurde entschieden die Bevölkerung in Form eines Flyers zu informieren. Dieser Flyer soll alle notwendigen Informationen über die Gründe der Strassensperrung beinhalten und auf eine Website verweisen welche zusätlich Informationen enthält. \n",
    "\n",
    "Das Viualisierungskonzept wurde ausserhalb des Notebooks erarbeitet und ist im Abgabe-Ordner ersichtlich."
   ]
  },
  {
   "cell_type": "markdown",
   "metadata": {},
   "source": [
    "# Schlussfolgerung\n",
    "Indem wir die Wahrscheinlichkeit eines Steinschlags mit tödlichen Folgen berechnen und auch 10 Millionen Jahre simulieren, um die Wahrscheinlichkeit zu erhalten, dass ein Auto ebenfalls von einem Stein getroffen wird, können wir feststellen, dass die Wahrscheinlichkeit eines Todes zu hoch ist. Die Wahrscheinlichkeit liegt in allen Fällen (berechnet und simuliert) über dem vorgegebenen Referenzwert von 1,e-04. Aus diesem Grund empfehlen wir, die Hauptstraße in Schiers bis zum vollständigen Austausch der Sicherheitsnetze zu sperren, die Bevölkerung über die Entscheidung zu informieren und die Ergebnisse des Notebooks zu veröffentlichen."
   ]
  },
  {
   "cell_type": "markdown",
   "metadata": {},
   "source": [
    "# Disclaimer\n",
    "Die Bearbeitung der Challenge wurde grundsätzlich in einem R Notebook durchgeführt, da unserer Meinung nach dies die am besten geeignete Sprache für die Aufgabe ist. Um allerdings den Vorgaben zur Erhaltung von Portfoliocredits gerecht zu werden, habe ich dieses Notebook in Python erstellt. Dieses Notebook enthält somit die wichtigsten Teile der Arbeit (Darunter die Monte-Carlo-Simulation) in Python-Code. Weitere Berechnungen wie das Prüfen der besten Verteilung auf die Datensets sind im R-Notebook vorhanden. "
   ]
  }
 ],
 "metadata": {
  "kernelspec": {
   "display_name": "Python 3",
   "language": "python",
   "name": "python3"
  },
  "language_info": {
   "codemirror_mode": {
    "name": "ipython",
    "version": 3
   },
   "file_extension": ".py",
   "mimetype": "text/x-python",
   "name": "python",
   "nbconvert_exporter": "python",
   "pygments_lexer": "ipython3",
   "version": "3.7.3"
  },
  "varInspector": {
   "cols": {
    "lenName": 16,
    "lenType": 16,
    "lenVar": 40
   },
   "kernels_config": {
    "python": {
     "delete_cmd_postfix": "",
     "delete_cmd_prefix": "del ",
     "library": "var_list.py",
     "varRefreshCmd": "print(var_dic_list())"
    },
    "r": {
     "delete_cmd_postfix": ") ",
     "delete_cmd_prefix": "rm(",
     "library": "var_list.r",
     "varRefreshCmd": "cat(var_dic_list()) "
    }
   },
   "types_to_exclude": [
    "module",
    "function",
    "builtin_function_or_method",
    "instance",
    "_Feature"
   ],
   "window_display": false
  }
 },
 "nbformat": 4,
 "nbformat_minor": 4
}
